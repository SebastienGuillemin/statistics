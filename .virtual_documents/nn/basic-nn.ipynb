import dataloader as dl
import random


samples = dl.load_samples(subsample_size=3)
clean_samples = samples.drop(columns=['id', 'num_echantillon', 'id_lot'])
print(samples.shape)


dataset = []
ids = samples['id_lot'].unique()

for id in ids:
    batch_samples = list(clean_samples.loc[samples['id_lot'] == id].itertuples(index=False, name=None))

    for sample1 in batch_samples:
        for sample2 in batch_samples:
            if sample1 != sample2:
                dataset.append((sample1, sample2, 1))

print(len(dataset))


dataset_size = len(dataset)
counter_examples = []
print(dataset_size)

for tuple in dataset:
    new_tuple = (tuple, dataset[random.randint(3, dataset_size - 1)], 1)
    
    while new_tuple in dataset:
        print(new_tuple)
        new_tuple = (tuple, dataset(random.randint(3, dataset_size - 1)), 1)

    new_tuple = (new_tuple[0], new_tuple[1], 0)
    counter_examples.append(new_tuple)

dataset += counter_examples

print(dataset)
print(len(dataset))



