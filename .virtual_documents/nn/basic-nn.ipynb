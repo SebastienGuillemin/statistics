from dataloader import load_dataset, split_dataset


train_dataset, test_dataset = split_dataset(load_dataset())



