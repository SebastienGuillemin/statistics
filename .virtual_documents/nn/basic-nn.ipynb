from dataloader import load_dataset


samples_dt = load_dataset(size=3)
print(len(samples_dt))
