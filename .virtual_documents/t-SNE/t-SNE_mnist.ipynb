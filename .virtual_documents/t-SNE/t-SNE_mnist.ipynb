import matplotlib.pyplot as plt
import seaborn as sns
from sklearn.manifold import TSNE
from sklearn.datasets import fetch_openml
from sklearn_extra.cluster import KMedoids
import pandas as pd
import gower


X, y = fetch_openml('mnist_784', version=1, return_X_y=True, as_frame=False)


X = X[:2500]
y = y[:2500]


tsne = TSNE(n_components=2, perplexity=50)
embedding = tsne.fit_transform(X)
plt.scatter(embedding[:,0], embedding[:,1])
plt.show()


dist_matrix = gower.gower_matrix(embedding)
kmedoids = KMedoids(n_clusters=10, metric='precomputed').fit(dist_matrix)
labels = kmedoids.predict(dist_matrix)


embedding_df = pd.DataFrame({'x': embedding[:, 0], 'y': embedding[:, 1], 'label': labels})
fig, ax = plt.subplots(1)
sns.color_palette("bright")
sns.scatterplot(x="x", y="y", data=embedding_df, hue='label', ax=ax, s=30, palette=sns.color_palette('bright', n_colors=nb_clusters))

lim = (embedding.min()-5, embedding.max()+5)
ax.set_xlim(lim)
ax.set_ylim(lim)
ax.set_aspect('equal')
ax.legend(bbox_to_anchor=(1.05, 1), loc=2, borderaxespad=0.0)



