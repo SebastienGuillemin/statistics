{
 "cells": [
  {
   "cell_type": "code",
   "execution_count": 1,
   "id": "db1b08c3-8c44-4641-8f3d-50aa6eeb15f1",
   "metadata": {},
   "outputs": [],
   "source": [
    "import psycopg2\n",
    "import pandas as pd\n",
    "pd.options.mode.chained_assignment = None\n",
    "from tqdm.notebook import tqdm\n",
    "import math"
   ]
  },
  {
   "cell_type": "code",
   "execution_count": 2,
   "id": "b75f2069-1282-4fe5-b686-d6f1bfe4d51d",
   "metadata": {},
   "outputs": [
    {
     "data": {
      "text/html": [
       "<div>\n",
       "<style scoped>\n",
       "    .dataframe tbody tr th:only-of-type {\n",
       "        vertical-align: middle;\n",
       "    }\n",
       "\n",
       "    .dataframe tbody tr th {\n",
       "        vertical-align: top;\n",
       "    }\n",
       "\n",
       "    .dataframe thead th {\n",
       "        text-align: right;\n",
       "    }\n",
       "</style>\n",
       "<table border=\"1\" class=\"dataframe\">\n",
       "  <thead>\n",
       "    <tr style=\"text-align: right;\">\n",
       "      <th></th>\n",
       "      <th>e1</th>\n",
       "      <th>e2</th>\n",
       "      <th>id_lot</th>\n",
       "    </tr>\n",
       "  </thead>\n",
       "  <tbody>\n",
       "    <tr>\n",
       "      <th>0</th>\n",
       "      <td>13080</td>\n",
       "      <td>13077</td>\n",
       "      <td>2147483647</td>\n",
       "    </tr>\n",
       "    <tr>\n",
       "      <th>1</th>\n",
       "      <td>17649</td>\n",
       "      <td>17648</td>\n",
       "      <td>2147483647</td>\n",
       "    </tr>\n",
       "    <tr>\n",
       "      <th>2</th>\n",
       "      <td>23027</td>\n",
       "      <td>22296</td>\n",
       "      <td>2147483647</td>\n",
       "    </tr>\n",
       "    <tr>\n",
       "      <th>3</th>\n",
       "      <td>28413</td>\n",
       "      <td>28415</td>\n",
       "      <td>2147483647</td>\n",
       "    </tr>\n",
       "    <tr>\n",
       "      <th>4</th>\n",
       "      <td>35824</td>\n",
       "      <td>35748</td>\n",
       "      <td>2147483647</td>\n",
       "    </tr>\n",
       "    <tr>\n",
       "      <th>...</th>\n",
       "      <td>...</td>\n",
       "      <td>...</td>\n",
       "      <td>...</td>\n",
       "    </tr>\n",
       "    <tr>\n",
       "      <th>3178</th>\n",
       "      <td>58648</td>\n",
       "      <td>58778</td>\n",
       "      <td>2147483647</td>\n",
       "    </tr>\n",
       "    <tr>\n",
       "      <th>3179</th>\n",
       "      <td>58648</td>\n",
       "      <td>59072</td>\n",
       "      <td>2147483647</td>\n",
       "    </tr>\n",
       "    <tr>\n",
       "      <th>3180</th>\n",
       "      <td>59392</td>\n",
       "      <td>2022</td>\n",
       "      <td>2147483647</td>\n",
       "    </tr>\n",
       "    <tr>\n",
       "      <th>3181</th>\n",
       "      <td>59390</td>\n",
       "      <td>59385</td>\n",
       "      <td>2147483647</td>\n",
       "    </tr>\n",
       "    <tr>\n",
       "      <th>3182</th>\n",
       "      <td>59399</td>\n",
       "      <td>59398</td>\n",
       "      <td>2147483647</td>\n",
       "    </tr>\n",
       "  </tbody>\n",
       "</table>\n",
       "<p>3183 rows × 3 columns</p>\n",
       "</div>"
      ],
      "text/plain": [
       "         e1     e2      id_lot\n",
       "0     13080  13077  2147483647\n",
       "1     17649  17648  2147483647\n",
       "2     23027  22296  2147483647\n",
       "3     28413  28415  2147483647\n",
       "4     35824  35748  2147483647\n",
       "...     ...    ...         ...\n",
       "3178  58648  58778  2147483647\n",
       "3179  58648  59072  2147483647\n",
       "3180  59392   2022  2147483647\n",
       "3181  59390  59385  2147483647\n",
       "3182  59399  59398  2147483647\n",
       "\n",
       "[3183 rows x 3 columns]"
      ]
     },
     "metadata": {},
     "output_type": "display_data"
    }
   ],
   "source": [
    "# Loading data\n",
    "conn = psycopg2.connect(database=\"full_STUPS\",\n",
    "                        user=\"postgres\",\n",
    "                        host='localhost',\n",
    "                        password=\"postgres\",\n",
    "                        port=5432)\n",
    "cur = conn.cursor()\n",
    "cur.execute('SELECT id_composition as \"e1\", id_composition_lien as \"e2\", 2147483647 as \"id_lot\" FROM lot_echantillon where id_composition is not null and id_composition_lien is not null')\n",
    "samples = cur.fetchall()\n",
    "conn.close()\n",
    "colnames = [desc[0] for desc in cur.description]\n",
    "\n",
    "df = pd.DataFrame(list(samples), columns=colnames)\n",
    "#df = df.iloc[:500, :]\n",
    "display(df)"
   ]
  },
  {
   "cell_type": "code",
   "execution_count": 3,
   "id": "11093331-3c9b-43e1-9084-025e72a966ed",
   "metadata": {},
   "outputs": [],
   "source": [
    "def in_df(name_1, v1, name_2, v2, df):\n",
    "    for i in df.index:\n",
    "        if df[name_1][i] == v1 and df[name_2][i] == v2:\n",
    "            return True\n",
    "    return False"
   ]
  },
  {
   "cell_type": "code",
   "execution_count": 4,
   "id": "2b0f8d47-1f11-43c8-8539-7e05c3d1f2d1",
   "metadata": {},
   "outputs": [
    {
     "name": "stdout",
     "output_type": "stream",
     "text": [
      "Undirecting links.\n"
     ]
    },
    {
     "data": {
      "application/vnd.jupyter.widget-view+json": {
       "model_id": "4d4198aa39f14c71a58fc7dc5667fdd3",
       "version_major": 2,
       "version_minor": 0
      },
      "text/plain": [
       "  0%|          | 0/3183 [00:00<?, ?it/s]"
      ]
     },
     "metadata": {},
     "output_type": "display_data"
    },
    {
     "name": "stdout",
     "output_type": "stream",
     "text": [
      "Dataframe new shape : (6291, 3)\n"
     ]
    },
    {
     "data": {
      "application/vnd.jupyter.widget-view+json": {
       "model_id": "ae37bf2dcf094ae59cb9c08a9cc9fca3",
       "version_major": 2,
       "version_minor": 0
      },
      "text/plain": [
       "  0%|          | 0/6291 [00:00<?, ?it/s]"
      ]
     },
     "metadata": {},
     "output_type": "display_data"
    },
    {
     "name": "stdout",
     "output_type": "stream",
     "text": [
      "New nodes : 3532\n"
     ]
    },
    {
     "data": {
      "application/vnd.jupyter.widget-view+json": {
       "model_id": "7481780e9e5f4d58b98126d3fb3bfeb6",
       "version_major": 2,
       "version_minor": 0
      },
      "text/plain": [
       "  0%|          | 0/9823 [00:00<?, ?it/s]"
      ]
     },
     "metadata": {},
     "output_type": "display_data"
    },
    {
     "name": "stdout",
     "output_type": "stream",
     "text": [
      "New nodes : 1268\n"
     ]
    },
    {
     "data": {
      "application/vnd.jupyter.widget-view+json": {
       "model_id": "0f54ce0ca03f4fbaa1a6c74ccc244d4b",
       "version_major": 2,
       "version_minor": 0
      },
      "text/plain": [
       "  0%|          | 0/11091 [00:00<?, ?it/s]"
      ]
     },
     "metadata": {},
     "output_type": "display_data"
    },
    {
     "name": "stdout",
     "output_type": "stream",
     "text": [
      "New nodes : 230\n"
     ]
    },
    {
     "data": {
      "application/vnd.jupyter.widget-view+json": {
       "model_id": "eb09bbb827bc422ca693e0b9bee8699b",
       "version_major": 2,
       "version_minor": 0
      },
      "text/plain": [
       "  0%|          | 0/11321 [00:00<?, ?it/s]"
      ]
     },
     "metadata": {},
     "output_type": "display_data"
    },
    {
     "name": "stdout",
     "output_type": "stream",
     "text": [
      "New nodes : 2\n"
     ]
    },
    {
     "data": {
      "application/vnd.jupyter.widget-view+json": {
       "model_id": "753e401c04464efab359bb5972908d15",
       "version_major": 2,
       "version_minor": 0
      },
      "text/plain": [
       "  0%|          | 0/11323 [00:00<?, ?it/s]"
      ]
     },
     "metadata": {},
     "output_type": "display_data"
    },
    {
     "name": "stdout",
     "output_type": "stream",
     "text": [
      "New nodes : 0\n",
      "Undirecting links.\n"
     ]
    },
    {
     "data": {
      "application/vnd.jupyter.widget-view+json": {
       "model_id": "9e7eff64404b4940b5aa945c591949f6",
       "version_major": 2,
       "version_minor": 0
      },
      "text/plain": [
       "  0%|          | 0/11323 [00:00<?, ?it/s]"
      ]
     },
     "metadata": {},
     "output_type": "display_data"
    },
    {
     "name": "stdout",
     "output_type": "stream",
     "text": [
      "Dataframe new shape : (11323, 3)\n"
     ]
    }
   ],
   "source": [
    "def undirect_links(df):\n",
    "    print(\"Undirecting links.\")\n",
    "    for i in tqdm(df.index):\n",
    "        df.loc[df.shape[0]] = [df['e2'][i], df['e1'][i], df['id_lot'][i]]\n",
    "    df = df.drop_duplicates(keep='first', ignore_index=True)\n",
    "    return df\n",
    "\n",
    "def expand(df, start_search_index):\n",
    "    df_2 = df.copy()\n",
    "    for i in tqdm(df.index):\n",
    "        neighbors = []\n",
    "        e1 = df['e1'][i]\n",
    "        e2 = df['e2'][i]\n",
    "        id_lot = df['id_lot'][i]\n",
    "        for j in range(start_search_index, len(df.index)):\n",
    "            e1_2 = df['e1'][j]\n",
    "            e2_2 = df['e2'][j]\n",
    "\n",
    "            if e1 != e2_2 and e2 == e1_2:\n",
    "                neighbors.append(e2_2)\n",
    "\n",
    "        if len(neighbors) != 0:\n",
    "            for n in neighbors:\n",
    "                if e1 != n:\n",
    "                    df_2.loc[len(df_2)] = [e1, n, id_lot]\n",
    "                    df_2.loc[len(df_2)] = [n, e1, id_lot]\n",
    "\n",
    "    df_2 = df_2.drop_duplicates(keep='first', ignore_index=True)\n",
    "    new_nodes = df_2.shape[0] - df.shape[0]\n",
    "    print(f'New nodes : {new_nodes}')\n",
    "    if new_nodes > 0:\n",
    "        return expand(df_2, len(df.index))\n",
    "    else:\n",
    "        return df_2\n",
    "\n",
    "def complete_batch_v2(df):\n",
    "    df = undirect_links(df)\n",
    "    print(f'Dataframe new shape : {df.shape}')\n",
    "    df = expand(df, 0)\n",
    "    df = undirect_links(df)\n",
    "    print(f'Dataframe new shape : {df.shape}')\n",
    "    return df\n",
    "\n",
    "df = complete_batch_v2(df)\n",
    "#print(df)"
   ]
  },
  {
   "cell_type": "code",
   "execution_count": 5,
   "id": "9f772663-ded1-4cd7-9f1c-4e08d7d8104b",
   "metadata": {},
   "outputs": [
    {
     "data": {
      "application/vnd.jupyter.widget-view+json": {
       "model_id": "7e476f9726314d11a57bf5f557cfcd9c",
       "version_major": 2,
       "version_minor": 0
      },
      "text/plain": [
       "  0%|          | 0/11323 [00:00<?, ?it/s]"
      ]
     },
     "metadata": {},
     "output_type": "display_data"
    }
   ],
   "source": [
    "i = 0\n",
    "\n",
    "for ind in tqdm(df.index):\n",
    "    e1 = df['e1'][ind]\n",
    "    e2 = df['e2'][ind]\n",
    "    id_lot = min(i, df['id_lot'][ind])\n",
    "    \n",
    "    if id_lot == i:\n",
    "        i += 1\n",
    "        df['id_lot'][ind] = id_lot\n",
    "        \n",
    "    for ind2 in df.index:\n",
    "        e1_2 = df['e1'][ind2]\n",
    "        e2_2 = df['e2'][ind2]\n",
    "        id_lot_2 = df['id_lot'][ind2]\n",
    "\n",
    "        if e1_2 == e1 or e1_2 == e2 or e2_2 == e1 or e2_2 == e2:\n",
    "            df['id_lot'].at[ind2] = id_lot"
   ]
  },
  {
   "cell_type": "code",
   "execution_count": 6,
   "id": "f5d885cd-878e-40c1-b4ae-c71cc41ba15d",
   "metadata": {},
   "outputs": [
    {
     "data": {
      "text/html": [
       "<div>\n",
       "<style scoped>\n",
       "    .dataframe tbody tr th:only-of-type {\n",
       "        vertical-align: middle;\n",
       "    }\n",
       "\n",
       "    .dataframe tbody tr th {\n",
       "        vertical-align: top;\n",
       "    }\n",
       "\n",
       "    .dataframe thead th {\n",
       "        text-align: right;\n",
       "    }\n",
       "</style>\n",
       "<table border=\"1\" class=\"dataframe\">\n",
       "  <thead>\n",
       "    <tr style=\"text-align: right;\">\n",
       "      <th></th>\n",
       "      <th>e1</th>\n",
       "      <th>e2</th>\n",
       "      <th>id_lot</th>\n",
       "    </tr>\n",
       "  </thead>\n",
       "  <tbody>\n",
       "    <tr>\n",
       "      <th>0</th>\n",
       "      <td>13080</td>\n",
       "      <td>13077</td>\n",
       "      <td>0</td>\n",
       "    </tr>\n",
       "    <tr>\n",
       "      <th>1</th>\n",
       "      <td>17649</td>\n",
       "      <td>17648</td>\n",
       "      <td>1</td>\n",
       "    </tr>\n",
       "    <tr>\n",
       "      <th>2</th>\n",
       "      <td>23027</td>\n",
       "      <td>22296</td>\n",
       "      <td>2</td>\n",
       "    </tr>\n",
       "    <tr>\n",
       "      <th>3</th>\n",
       "      <td>28413</td>\n",
       "      <td>28415</td>\n",
       "      <td>3</td>\n",
       "    </tr>\n",
       "    <tr>\n",
       "      <th>4</th>\n",
       "      <td>35824</td>\n",
       "      <td>35748</td>\n",
       "      <td>4</td>\n",
       "    </tr>\n",
       "    <tr>\n",
       "      <th>...</th>\n",
       "      <td>...</td>\n",
       "      <td>...</td>\n",
       "      <td>...</td>\n",
       "    </tr>\n",
       "    <tr>\n",
       "      <th>11318</th>\n",
       "      <td>16662</td>\n",
       "      <td>16654</td>\n",
       "      <td>344</td>\n",
       "    </tr>\n",
       "    <tr>\n",
       "      <th>11319</th>\n",
       "      <td>16661</td>\n",
       "      <td>16653</td>\n",
       "      <td>344</td>\n",
       "    </tr>\n",
       "    <tr>\n",
       "      <th>11320</th>\n",
       "      <td>16653</td>\n",
       "      <td>16661</td>\n",
       "      <td>344</td>\n",
       "    </tr>\n",
       "    <tr>\n",
       "      <th>11321</th>\n",
       "      <td>16653</td>\n",
       "      <td>16662</td>\n",
       "      <td>344</td>\n",
       "    </tr>\n",
       "    <tr>\n",
       "      <th>11322</th>\n",
       "      <td>16662</td>\n",
       "      <td>16653</td>\n",
       "      <td>344</td>\n",
       "    </tr>\n",
       "  </tbody>\n",
       "</table>\n",
       "<p>11323 rows × 3 columns</p>\n",
       "</div>"
      ],
      "text/plain": [
       "          e1     e2  id_lot\n",
       "0      13080  13077       0\n",
       "1      17649  17648       1\n",
       "2      23027  22296       2\n",
       "3      28413  28415       3\n",
       "4      35824  35748       4\n",
       "...      ...    ...     ...\n",
       "11318  16662  16654     344\n",
       "11319  16661  16653     344\n",
       "11320  16653  16661     344\n",
       "11321  16653  16662     344\n",
       "11322  16662  16653     344\n",
       "\n",
       "[11323 rows x 3 columns]"
      ]
     },
     "metadata": {},
     "output_type": "display_data"
    }
   ],
   "source": [
    "display(df)"
   ]
  },
  {
   "cell_type": "code",
   "execution_count": 8,
   "id": "ccc9bbe6-22ff-4819-92ff-afed4d750cbe",
   "metadata": {},
   "outputs": [
    {
     "data": {
      "application/vnd.jupyter.widget-view+json": {
       "model_id": "5fcceb6e4e51451a939bee413ba0feea",
       "version_major": 2,
       "version_minor": 0
      },
      "text/plain": [
       "  0%|          | 0/11323 [00:00<?, ?it/s]"
      ]
     },
     "metadata": {},
     "output_type": "display_data"
    }
   ],
   "source": [
    "conn = psycopg2.connect(database=\"full_STUPS\",\n",
    "                        user=\"postgres\",\n",
    "                        host='localhost',\n",
    "                        password=\"postgres\",\n",
    "                        port=5432)\n",
    "\n",
    "for ind in tqdm(df.index):\n",
    "    cur = conn.cursor()\n",
    "    if not math.isnan(df[\"e1\"][ind]) and not math.isnan(df[\"e2\"][ind]):\n",
    "        cur.execute(f'INSERT INTO lot_complet VALUES ({df[\"e1\"][ind]}, {df[\"e2\"][ind]}, {df[\"id_lot\"][ind]})')\n",
    "\n",
    "conn.commit()\n",
    "conn.close()"
   ]
  }
 ],
 "metadata": {
  "kernelspec": {
   "display_name": "Python 3 (ipykernel)",
   "language": "python",
   "name": "python3"
  },
  "language_info": {
   "codemirror_mode": {
    "name": "ipython",
    "version": 3
   },
   "file_extension": ".py",
   "mimetype": "text/x-python",
   "name": "python",
   "nbconvert_exporter": "python",
   "pygments_lexer": "ipython3",
   "version": "3.9.5"
  }
 },
 "nbformat": 4,
 "nbformat_minor": 5
}
