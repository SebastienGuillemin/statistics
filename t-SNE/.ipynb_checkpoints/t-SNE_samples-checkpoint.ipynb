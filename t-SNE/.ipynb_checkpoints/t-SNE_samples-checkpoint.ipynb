{
 "cells": [
  {
   "cell_type": "code",
   "execution_count": 1,
   "id": "a54da50a-e68a-45cd-9d12-73e0b8424302",
   "metadata": {},
   "outputs": [],
   "source": [
    "%matplotlib widget\n",
    "import psycopg2\n",
    "import matplotlib.pyplot as plt\n",
    "from mpl_toolkits.mplot3d import Axes3D\n",
    "import numpy as np\n",
    "import seaborn as sns\n",
    "from matplotlib.colors import ListedColormap\n",
    "from sklearn.manifold import TSNE\n",
    "from sklearn_extra.cluster import KMedoids\n",
    "from sklearn.metrics import silhouette_score\n",
    "import pandas as pd\n",
    "import gower\n",
    "from tqdm.notebook import tqdm\n",
    "from yellowbrick.cluster import SilhouetteVisualizer"
   ]
  },
  {
   "cell_type": "code",
   "execution_count": 2,
   "id": "d2fe7889-2a29-4b8e-b438-85f0b7d609b8",
   "metadata": {},
   "outputs": [],
   "source": [
    "# Loading data\n",
    "conn = psycopg2.connect(database=\"full_STUPS\",\n",
    "                        user=\"postgres\",\n",
    "                        host='localhost',\n",
    "                        password=\"postgres\",\n",
    "                        port=5432)\n",
    "cur = conn.cursor()\n",
    "cur.execute('SELECT * FROM echantillon_propriete ORDER BY id')\n",
    "samples = cur.fetchall()\n",
    "conn.commit()\n",
    "conn.close()\n",
    "colnames = [desc[0] for desc in cur.description]"
   ]
  },
  {
   "cell_type": "code",
   "execution_count": 3,
   "id": "fbd8a29b-3159-46c4-8045-19739b1e3d79",
   "metadata": {},
   "outputs": [],
   "source": [
    "# Subsampling data\n",
    "subsample = False\n",
    "\n",
    "X = pd.DataFrame(list(samples), columns=colnames) \n",
    "X = X.drop(columns=['id', 'num_echantillon'])\n",
    "\n",
    "if subsample:\n",
    "    X = X.iloc[:3750, :]\n",
    "    \n",
    "print(f'Samples shape : {X.shape}')"
   ]
  },
  {
   "cell_type": "code",
   "execution_count": null,
   "id": "e78be0ba-4122-4a85-976a-688760f5dd77",
   "metadata": {},
   "outputs": [],
   "source": [
    "# Computing distance matrix between all samples\n",
    "dist_matrix = gower.gower_matrix(X)\n",
    "print(f'Distance matrix size : {dist_matrix.size}')"
   ]
  },
  {
   "cell_type": "code",
   "execution_count": null,
   "id": "724b5603-e3af-4c25-b9ca-3d3015b611e3",
   "metadata": {},
   "outputs": [],
   "source": [
    "# Computing t-SNE\n",
    "tsne = TSNE(n_components=3,\n",
    "            perplexity=50,\n",
    "            init='random',\n",
    "            metric='precomputed')\n",
    "embedding = tsne.fit_transform(dist_matrix)"
   ]
  },
  {
   "cell_type": "code",
   "execution_count": null,
   "id": "2534368a-fdd0-4373-a324-73391ddabfa6",
   "metadata": {},
   "outputs": [],
   "source": [
    "# Printing t-SNE results\n",
    "fig = plt.figure(figsize=(5, 5))\n",
    "ax = Axes3D(fig, auto_add_to_figure=False)\n",
    "fig.add_axes(ax)\n",
    "\n",
    "# plot\n",
    "sc = ax.scatter(embedding[:, 0], embedding[:, 1], embedding[:, 2], s=10, marker='o',  alpha=0.5)"
   ]
  },
  {
   "cell_type": "code",
   "execution_count": null,
   "id": "618bba48-5cdd-4eea-932d-4742512e5623",
   "metadata": {},
   "outputs": [],
   "source": [
    "# Computing different clustering using kmenoids\n",
    "# with different number of clusters \n",
    "labels_results = []\n",
    "wcss = []\n",
    "min_clusters = 2\n",
    "nb_clusters = 100\n",
    "nb_clusters_range = range(min_clusters, nb_clusters + min_clusters)\n",
    "\n",
    "for i in tqdm(nb_clusters_range):\n",
    "    model = KMedoids(n_clusters=i, init='k-medoids++').fit(embedding)\n",
    "    \n",
    "    cluster_lablels = model.labels_\n",
    "    silhouette_avg = silhouette_score(embedding, cluster_lables)\n",
    "    \n",
    "    labels_results.append(cluster_lablels)\n",
    "    wcss.append(silhouette_avg)"
   ]
  },
  {
   "cell_type": "code",
   "execution_count": null,
   "id": "914e6cdc-fcd1-4e2f-8ced-c36c16a65edd",
   "metadata": {},
   "outputs": [],
   "source": [
    "# Printing curve(s)\n",
    "x = nb_clusters_range\n",
    "#d_wcss = np.gradient(wcss)\n",
    "#d2_wcss = np.gradient(wcss)\n",
    "\n",
    "fig = plt.figure(figsize=(8, 8))\n",
    "plt.plot(x, wcss)\n",
    "#plt.plot(x, d_wcss)\n",
    "#plt.plot(x, d2_wcss)\n",
    "plt.ylabel('WCSS')\n",
    "\n",
    "plt.grid(visible=True, alpha=0.6)\n",
    "plt.show()"
   ]
  },
  {
   "cell_type": "code",
   "execution_count": null,
   "id": "e77b5890-4df9-446f-be12-df701fdf9c75",
   "metadata": {},
   "outputs": [],
   "source": [
    "# Finding the optimal cluster number\n",
    "index_cluster = np.argmax(wcss)\n",
    "\n",
    "#visualizer = SilhouetteVisualizer(KMedoids(n_clusters=index_cluster, init='k-medoids++'), colors='yellowbrick')\n",
    "#visualizer.fit(embedding)\n",
    "#visualizer.show()\n",
    "\n",
    "optimal_clusters_number = index_cluster + 1 # Indexes start at 0.\n",
    "print(f'Optimal cluster number : {optimal_clusters_number}.')"
   ]
  },
  {
   "cell_type": "code",
   "execution_count": null,
   "id": "f37a1e54-199d-4b10-a874-0b095d6618cb",
   "metadata": {},
   "outputs": [],
   "source": [
    "# Printing the cluster according to the optimal cluster number\n",
    "embedding_df = pd.DataFrame({'x': embedding[:, 0],\n",
    "                             'y': embedding[:, 1],\n",
    "                             'z': embedding[:, 2],\n",
    "                             'label': labels_results[index_cluster]})\n",
    "\n",
    "# axes instance\n",
    "fig = plt.figure(figsize=(8, 8))\n",
    "ax = Axes3D(fig, auto_add_to_figure=False)\n",
    "\n",
    "ax.set_xlabel('Embedding 1')\n",
    "ax.set_ylabel('Embedding 2')\n",
    "ax.set_zlabel('Embedding 3')\n",
    "fig.add_axes(ax)\n",
    "\n",
    "# get colormap from seaborn\n",
    "cmap = ListedColormap(sns.color_palette(\"husl\", optimal_clusters_number).as_hex())\n",
    "\n",
    "# plot\n",
    "sc = ax.scatter(embedding_df.loc[:, 'x'], embedding_df.loc[:, 'y'], embedding_df.loc[:, 'z'], s=20, c=embedding_df.loc[:, 'label'], marker='o', cmap=cmap, alpha=0.5)"
   ]
  }
 ],
 "metadata": {
  "kernelspec": {
   "display_name": "Python 3 (ipykernel)",
   "language": "python",
   "name": "python3"
  },
  "language_info": {
   "codemirror_mode": {
    "name": "ipython",
    "version": 3
   },
   "file_extension": ".py",
   "mimetype": "text/x-python",
   "name": "python",
   "nbconvert_exporter": "python",
   "pygments_lexer": "ipython3",
   "version": "3.9.5"
  }
 },
 "nbformat": 4,
 "nbformat_minor": 5
}
