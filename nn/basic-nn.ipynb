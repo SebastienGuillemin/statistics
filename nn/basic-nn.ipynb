{
 "cells": [
  {
   "cell_type": "code",
   "execution_count": 14,
   "id": "dc0732f1-e14a-4518-b69a-b13de28a9f14",
   "metadata": {},
   "outputs": [],
   "source": [
    "from dataloader import get_dataloaders, load_samples_dataset\n",
    "from samples_dataset import SamplesDataset\n",
    "import numpy as np\n",
    "import torch\n",
    "import torch.nn as nn\n",
    "import torch.optim as optim\n",
    "from torch.utils.data import DataLoader\n",
    "from tqdm.notebook import tqdm\n",
    "\n",
    "%matplotlib widget \n",
    "from matplotlib import pyplot as plt"
   ]
  },
  {
   "cell_type": "markdown",
   "id": "3bfa7072",
   "metadata": {},
   "source": [
    "# Train method"
   ]
  },
  {
   "cell_type": "code",
   "execution_count": 15,
   "id": "ead53253",
   "metadata": {},
   "outputs": [],
   "source": [
    "def train(model, dataloader, optimizer, criterion, n_epoch=10, verbose=False):\n",
    "    device = next(model.parameters()).device\n",
    "    mean_loss = []\n",
    "    nb_examples = len(dataloader.dataset)\n",
    "\n",
    "    model.train(True)\n",
    "    for epoch in tqdm(range(n_epoch)):  # loop over the dataset multiple times\n",
    "        loss_sum = 0.0\n",
    "        for i, data in enumerate(dataloader):\n",
    "            inputs, labels = data\n",
    "            inputs = inputs.to(device)\n",
    "            labels = labels.to(device)\n",
    "\n",
    "            # zero the parameter gradients\n",
    "            optimizer.zero_grad()\n",
    "\n",
    "            # forward + backward + optimize\n",
    "            outputs = model(inputs)[:,0]\n",
    "            loss = criterion(outputs, labels)\n",
    "            loss.backward()\n",
    "            optimizer.step()\n",
    "\n",
    "            loss_sum += loss.item()\n",
    "        mean_loss.append(loss_sum / nb_examples)\n",
    "\n",
    "    if verbose:\n",
    "        print('Finished Training')\n",
    "        plt.title('Mean error for each epoch')\n",
    "        plt.xlabel('Epoch')\n",
    "        plt.ylabel('Mean error')\n",
    "        plt.plot(range(1, n_epoch + 1), mean_loss)"
   ]
  },
  {
   "cell_type": "markdown",
   "id": "01f3adbc",
   "metadata": {},
   "source": [
    "# Test method"
   ]
  },
  {
   "cell_type": "code",
   "execution_count": 16,
   "id": "fbc9b031",
   "metadata": {},
   "outputs": [],
   "source": [
    "def test(model, dataloader, verbose=False):\n",
    "    device = next(model.parameters()).device\n",
    "\n",
    "    model.eval()\n",
    "    \n",
    "    with torch.no_grad():\n",
    "        accuracy = 0.0\n",
    "        nb_examples = 0.0\n",
    "        for i, data in enumerate(dataloader):\n",
    "            inputs, labels = data\n",
    "            inputs = inputs.to(device)\n",
    "            labels = labels.to(device)\n",
    "            \n",
    "            nb_examples += len(inputs)\n",
    "\n",
    "            outputs = model(inputs)[:,0]\n",
    "            accuracy += torch.sum(outputs == labels).item()\n",
    "\n",
    "        accuracy /= nb_examples\n",
    "        return accuracy * 100"
   ]
  },
  {
   "cell_type": "markdown",
   "id": "aba0bccf",
   "metadata": {},
   "source": [
    "# Cross-validation method"
   ]
  },
  {
   "cell_type": "code",
   "execution_count": 17,
   "id": "1d789bd6",
   "metadata": {},
   "outputs": [],
   "source": [
    "def cross_valisation(model, X, y, optimizer, criterion, k=10, n_epoch=50):\n",
    "    scores = list()\n",
    "\n",
    "    if len(X) != len(y):\n",
    "            raise Exception(f'The size of X {len(X)} must be the same as the size y {len(y)}.')\n",
    "    \n",
    "    dataset_X_folds = np.array_split(X, k)\n",
    "    dataset_y_folds = np.array_split(y, k)\n",
    "\n",
    "    print(f'Starting {k}-fold cross-validation.')\n",
    "    pbar = tqdm(range(k), bar_format='Cross-validation performed at {percentage:3.0f}%{bar}{r_bar}')\n",
    "    for i in pbar:\n",
    "        samples_train = SamplesDataset()\n",
    "        dataset_X_train = np.concatenate(dataset_X_folds[0:i] + dataset_X_folds[i+1: len(dataset_X_folds)])\n",
    "        dataset_y_train = np.concatenate(dataset_y_folds[0:i] + dataset_y_folds[i+1: len(dataset_y_folds)])\n",
    "        samples_train.add_examples(dataset_X_train, dataset_y_train)\n",
    "\n",
    "        samples_test = SamplesDataset()\n",
    "        dataset_X_test = dataset_X_folds[i]\n",
    "        dataset_y_test = dataset_y_folds[i]\n",
    "        samples_test.add_examples(dataset_X_test, dataset_y_test)\n",
    "\n",
    "        train_dataloader = DataLoader(samples_train, batch_size=64, shuffle=True, pin_memory=True)\n",
    "        test_dataloader = DataLoader(samples_test, batch_size=64, shuffle=True, pin_memory=True)\n",
    "\n",
    "        train(model=model, dataloader=train_dataloader, optimizer=optimizer, criterion=criterion, n_epoch=n_epoch)\n",
    "        score = test(model=model, dataloader=test_dataloader)\n",
    "\n",
    "        scores.append(score)\n",
    "\n",
    "    return np.array(scores)"
   ]
  },
  {
   "cell_type": "markdown",
   "id": "7277d03f",
   "metadata": {},
   "source": [
    "# Main"
   ]
  },
  {
   "cell_type": "markdown",
   "id": "f0d83dfc",
   "metadata": {},
   "source": [
    "## Loading data"
   ]
  },
  {
   "cell_type": "code",
   "execution_count": 18,
   "id": "ee55ce96",
   "metadata": {},
   "outputs": [
    {
     "name": "stdout",
     "output_type": "stream",
     "text": [
      "Creating positive examples.\n"
     ]
    },
    {
     "data": {
      "application/vnd.jupyter.widget-view+json": {
       "model_id": "517889ba4fec402e89e6fa0eda70cc7a",
       "version_major": 2,
       "version_minor": 0
      },
      "text/plain": [
       "  0%|          | 0/649 [00:00<?, ?it/s]"
      ]
     },
     "metadata": {},
     "output_type": "display_data"
    },
    {
     "name": "stdout",
     "output_type": "stream",
     "text": [
      "Creating negative examples.\n"
     ]
    },
    {
     "data": {
      "application/vnd.jupyter.widget-view+json": {
       "model_id": "1e2b31b65bb7463c9c75480ea1ae1ace",
       "version_major": 2,
       "version_minor": 0
      },
      "text/plain": [
       "  0%|          | 0/7326 [00:00<?, ?it/s]"
      ]
     },
     "metadata": {},
     "output_type": "display_data"
    },
    {
     "name": "stdout",
     "output_type": "stream",
     "text": [
      "Dataset size : 14652\n"
     ]
    }
   ],
   "source": [
    "full_dataset = load_samples_dataset()\n",
    "full_dataset.shuffle()\n",
    "dataset_X, dataset_y = full_dataset.get_row_dataset()"
   ]
  },
  {
   "cell_type": "code",
   "execution_count": 19,
   "metadata": {},
   "outputs": [
    {
     "name": "stdout",
     "output_type": "stream",
     "text": [
      "(14652, 70)\n"
     ]
    },
    {
     "data": {
      "application/vnd.jupyter.widget-view+json": {
       "model_id": "01dc39571778427984b506cf4aadfbe0",
       "version_major": 2,
       "version_minor": 0
      },
      "image/png": "[encoded data removed]",
      "text/html": [
       "\n",
       "            <div style=\"display: inline-block;\">\n",
       "                <div class=\"jupyter-widgets widget-label\" style=\"text-align: center;\">\n",
       "                    Figure\n",
       "                </div>\n",
       "                <img src='data:image/png;base64,iVBORw0KGgoAAAANSUhEUgAAB9AAAAGQCAYAAAD2sPsvAAAAOXRFWHRTb2Z0d2FyZQBNYXRwbG90bGliIHZlcnNpb24zLjcuMiwgaHR0cHM6Ly9tYXRwbG90bGliLm9yZy8pXeV/AAAACXBIWXMAAA9hAAAPYQGoP6dpAABZi0lEQVR4nO3dd5heZZ0//veEVJLMJIEUQgqRHiEgNZEiQiAiYoAg4iILCLKrAQlxV2FVSixB3AVEaepKsETaUpYaMDSlSfkGKYKAICgmASUzEEwh8/z+8MdsJmTCM/O0Seb1uq65rplT7vtz3+ec+5zn+cw5p65QKBQCAAAAAAAAAF1ct1oHAAAAAAAAAACdgQQ6AAAAAAAAAEQCHQAAAAAAAACSSKADAAAAAAAAQBIJdAAAAAAAAABIIoEOAAAAAAAAAEkk0AEAAAAAAAAgiQQ6AAAAAAAAACSRQAcAAAAAAACAJBLoAAAAAAAAAJBEAh0AAAAAAAAAkkigAwAAAAAAAEASCXQAAAAAAAAASCKBDgAAAAAAAABJJNABAAAAAAAAIIkEOgAAAAAAAAAkkUAHAAAAAAAAgCQS6AAAAAAAAACQRAIdAAAAAAAAAJJIoAMAAAAAAABAEgl0AAAAAAAAAEgigQ4AAAAAAAAASSTQAQAAAAAAACCJBDoAAAAAAAAAJJFABwAAAAAAAIAkEugAAAAAAAAAkEQCHQAAAAAAAACSSKADAAAAAAAAQBIJdAAAAAAAAABIIoEOAAAAAAAAAEkk0AEAAAAAAAAgiQQ6AAAAAAAAACSRQAcAAAAAAACAJBLoAAAAAAAAAJBEAh0AAAAAAAAAkkigAwAAAAAAAEASCXQAAAAAAAAASCKBDgAAAAAAAABJJNABAAAAAAAAIIkEOgAAAAAAAAAkkUAHAAAAAAAAgCQS6AAAAAAAAACQRAIdAAAAAAAAAJJIoAMAAAAAAABAEgl0AAAAAAAAAEgigQ4AAAAAAAAASSTQAQAAAAAAACCJBDoAAAAAAAAAJJFABwAAAAAAAIAkEugAAAAAAAAAkEQCHQAAAAAAAACSSKADAAAAAAAAQBIJdAAAAAAAAABIIoEOAAAA64QzzjgjdXV1ee2112odSlm8+eabOe644zJs2LDU1dVl2rRpbS67ySab5Oijj65abAAAAKy7JNABAACgBh5//PEceuihGT16dHr37p2NN944++67b773ve/VOrR2+da3vpXrrruuIuXOmjUrn/vc5/LTn/40Rx55ZNnrKMZbb72VM844I3fddVdN6gcAAKC66gqFQqHWQQAAAEBXct999+XDH/5wRo0alaOOOirDhg3Lyy+/nAceeCDPP/98nnvuuXaXecYZZ+TMM8/Mq6++mg033LACUa9ev379cuihh2bWrFllLXf8+PHp3r17fv3rX7/nskuXLk23bt3So0ePssaQJK+99loGDx6c008/PWeccUbZywcAAKBz6V7rAAAAAKCr+eY3v5mGhoY89NBDGTBgQKt5CxcurE1QnczChQszduzYopbt1atXhaMBAACgq/AIdwAAAKiy559/Pu9///vflTxPkiFDhrT8/uKLL6aurm61d3fX1dWt9o7o1157LYcddljq6+uzwQYb5KSTTsqSJUtaLXP77bdn9913z4ABA9KvX79sueWW+Y//+I9WyyxdujSnn356Nttss/Tq1SsjR47Ml770pSxdurRVDIsXL85ll12Wurq61NXVvee7yBcuXJhjjz02Q4cOTe/evbPddtvlsssua5l/1113pa6uLi+88EJuuummlnJffPHFNstc9R3os2bNSl1dXe69995Mnz49gwcPTt++fXPwwQfn1VdfbbXuww8/nEmTJmXDDTdMnz59MmbMmHzmM59J8o/+Hzx4cJLkzDPPbInlnX7/7W9/m6OPPjrve9/70rt37wwbNiyf+cxn8te//rVVHe+8n/65557L0UcfnQEDBqShoSHHHHNM3nrrrXe152c/+1l22WWXrL/++hk4cGD23HPP3Hbbba2WueWWW7LHHnukb9++6d+/fw444IA8+eSTrZaZP39+jjnmmIwYMSK9evXKRhttlMmTJ6+xLwEAALo6d6ADAABAlY0ePTr3339/nnjiiWyzzTZlLfuwww7LJptskpkzZ+aBBx7I+eefn9dffz0/+clPkiRPPvlkPvaxj2XcuHGZMWNGevXqleeeey733ntvSxnNzc35+Mc/nl//+tc5/vjjs/XWW+fxxx/Pueeem9///vct7zz/6U9/muOOOy677LJLjj/++CTJpptu2mZsf//737PXXnvlueeeywknnJAxY8bkqquuytFHH51FixblpJNOytZbb52f/vSnOfnkkzNixIh88YtfTJKWRHZ7nHjiiRk4cGBOP/30vPjiiznvvPNywgkn5Iorrkjyj2T+fvvtl8GDB+eUU07JgAED8uKLL+aaa65pqfOiiy7K5z73uRx88ME55JBDkiTjxo1L8o9/RPjDH/6QY445JsOGDcuTTz6ZH/zgB3nyySfzwAMPpK6u7l3bZsyYMZk5c2YeffTR/OhHP8qQIUPy7W9/u2WZM888M2eccUY++MEPZsaMGenZs2cefPDB3HHHHdlvv/1a+v2oo47KpEmT8u1vfztvvfVWLrroouy+++75f//v/2WTTTZJkkyZMiVPPvlkTjzxxGyyySZZuHBhbr/99rz00kstywAAALCKAgAAAFBVt912W2G99dYrrLfeeoUJEyYUvvSlLxXmzJlTWLZsWavlXnjhhUKSwqWXXvquMpIUTj/99Ja/Tz/99EKSwsc//vFWy33+858vJCk89thjhUKhUDj33HMLSQqvvvpqm/H99Kc/LXTr1q3wq1/9qtX0iy++uJCkcO+997ZM69u3b+Goo44qqt3nnXdeIUnhZz/7Wcu0ZcuWFSZMmFDo169foampqWX66NGjCwcccEBR5Y4ePbpVDJdeemkhSWHixImF5ubmluknn3xyYb311issWrSoUCgUCtdee20hSeGhhx5qs+xXX331XX39jrfeeutd037xi18UkhTuueeelmnvbJvPfOYzrZY9+OCDCxtssEHL388++2yhW7duhYMPPriwYsWKVsu+04433nijMGDAgMJnP/vZVvPnz59faGhoaJn++uuvF5IUvvOd77TZNgAAAN7NI9wBAACgyvbdd9/cf//9+fjHP57HHnssZ599diZNmpSNN944//u//1tS2VOnTm3194knnpgkufnmm5Ok5bHx119/fZqbm1dbxlVXXZWtt946W221VV577bWWn7333jtJcuedd3YotptvvjnDhg3Lpz71qZZpPXr0yBe+8IW8+eabufvuuztUbluOP/74VneB77HHHlmxYkX++Mc/Jvm/vrjxxhuzfPnydpffp0+flt+XLFmS1157LePHj0+SPProo+9a/l//9V9b/b3HHnvkr3/9a5qampIk1113XZqbm3PaaaelW7fWX9m8047bb789ixYtyqc+9alW22a99dbLrrvu2rJt+vTpk549e+auu+7K66+/3u62AQAAdFUS6AAAAFADO++8c6655pq8/vrr+c1vfpNTTz01b7zxRg499NA89dRTHS538803b/X3pptumm7durW89/qTn/xkdttttxx33HEZOnRoDj/88Fx55ZWtkunPPvtsnnzyyQwePLjVzxZbbJHkH48+74g//vGP2Xzzzd+VHN56661b5pfTqFGjWv09cODAJGlJKH/oQx/KlClTcuaZZ2bDDTfM5MmTc+mll7Z6z/ua/O1vf8tJJ52UoUOHpk+fPhk8eHDGjBmTJGlsbGx3PM8//3y6deuWsWPHtlnns88+myTZe++937V9brvttpZt06tXr3z729/OLbfckqFDh2bPPffM2Wefnfnz5xfVNgAAgK7KO9ABAACghnr27Jmdd945O++8c7bYYoscc8wxueqqq3L66ae/6x3a71ixYkXR5a9aRp8+fXLPPffkzjvvzE033ZRbb701V1xxRfbee+/cdtttWW+99dLc3Jxtt90255xzzmrLHDlyZPENrKH11ltvtdMLhUKSf/TN1VdfnQceeCA33HBD5syZk8985jP5r//6rzzwwAPp16/fGss/7LDDct999+Xf//3fs/3226dfv35pbm7ORz7ykdXe3f9e8RTjnXJ/+tOfZtiwYe+a3737/33VM23atBx44IG57rrrMmfOnHzta1/LzJkzc8cdd+QDH/hA0XUCAAB0JRLoAAAA0EnstNNOSZK//OUvSf7vDuVFixa1Wm5Nd2o/++yzLXdBJ8lzzz2X5ubmbLLJJi3TunXrln322Sf77LNPzjnnnHzrW9/KV77yldx5552ZOHFiNt100zz22GPZZ5992kziv+O95q9s9OjR+e1vf5vm5uZWd6E//fTTLfNrYfz48Rk/fny++c1vZvbs2TniiCNy+eWX57jjjmuzfa+//nrmzp2bM888M6eddlrL9HfuEO+ITTfdNM3NzXnqqaey/fbbt7lMkgwZMiQTJ04sqswvfvGL+eIXv5hnn30222+/ff7rv/4rP/vZzzocJwAAwLrMI9wBAACgyu68887V3nX8znvKt9xyyyRJfX19Ntxww9xzzz2tlrvwwgvbLPuCCy5o9ff3vve9JMn++++f5B+PHV/VO8nadx5dfthhh+XPf/5zfvjDH75r2b///e9ZvHhxy999+/Z9V4K/LR/96Eczf/78XHHFFS3T3n777Xzve99Lv3798qEPfaiocsrl9ddff9d2WLUv1l9//STv/ieGd+4mX3X98847r8PxHHTQQenWrVtmzJjxrjvY36ln0qRJqa+vz7e+9a3Vvrf91VdfTZK89dZbWbJkSat5m266afr371/0I+oBAAC6InegAwAAQJWdeOKJeeutt3LwwQdnq622yrJly3LffffliiuuyCabbJJjjjmmZdnjjjsuZ511Vo477rjstNNOueeee/L73/++zbJfeOGFfPzjH89HPvKR3H///fnZz36Wf/qnf8p2222XJJkxY0buueeeHHDAARk9enQWLlyYCy+8MCNGjMjuu++eJDnyyCNz5ZVX5l//9V9z5513ZrfddsuKFSvy9NNP58orr8ycOXNa7pbfcccd88tf/jLnnHNOhg8fnjFjxmTXXXddbWzHH398Lrnkkhx99NF55JFHsskmm+Tqq6/Ovffem/POOy/9+/cvVxcX5bLLLsuFF16Ygw8+OJtuumneeOON/PCHP0x9fX0++tGPJvnHI+/Hjh2bK664IltssUUGDRqUbbbZJttss03Le8WXL1+ejTfeOLfddlteeOGFDsez2Wab5Stf+Uq+/vWvZ4899sghhxySXr165aGHHsrw4cMzc+bM1NfX56KLLsqRRx6ZHXbYIYcffngGDx6cl156KTfddFN22223fP/738/vf//77LPPPjnssMMyduzYdO/ePddee20WLFiQww8/vFxdCAAAsM6RQAcAAIAq+8///M9cddVVufnmm/ODH/wgy5Yty6hRo/L5z38+X/3qVzNgwICWZU877bS8+uqrufrqq3PllVdm//33zy233JIhQ4astuwrrrgip512Wk455ZR07949J5xwQr7zne+0zP/4xz+eF198MT/+8Y/z2muvZcMNN8yHPvShnHnmmWloaEjyj0e8X3fddTn33HPzk5/8JNdee23WX3/9vO9978tJJ52ULbbYoqW8c845J8cff3y++tWv5u9//3uOOuqoNhPoffr0yV133ZVTTjkll112WZqamrLlllvm0ksvzdFHH116x7bThz70ofzmN7/J5ZdfngULFqShoSG77LJLfv7zn7d6DP6PfvSjnHjiiTn55JOzbNmynH766dlmm20ye/bsnHjiibngggtSKBSy33775ZZbbsnw4cM7HNOMGTMyZsyYfO9738tXvvKVrL/++hk3blyOPPLIlmX+6Z/+KcOHD89ZZ52V73znO1m6dGk23njj7LHHHi3/fDFy5Mh86lOfyty5c/PTn/403bt3z1ZbbZUrr7wyU6ZM6XinAQAArOPqCqt7ZhwAAAAAAAAAdDHegQ4AAAAAAAAAkUAHAAAAAAAAgCQS6AAAAAAAAACQRAIdAAAAAAAAAJJIoAMAAAAAAABAEgl0AAAAAAAAAEgigQ4AAAAAAAAASSTQAQAAAAAAACCJBDoAAAAAAAAAJJFAB9YiF1xwQTbZZJP07t07u+66a37zm9/UOiSA1brnnnty4IEHZvjw4amrq8t1113Xan6hUMhpp52WjTbaKH369MnEiRPz7LPPtlrmb3/7W4444ojU19dnwIABOfbYY/Pmm29WsRUA/zBz5szsvPPO6d+/f4YMGZKDDjoozzzzTKtllixZkqlTp2aDDTZIv379MmXKlCxYsKDVMi+99FIOOOCArL/++hkyZEj+/d//PW+//XY1mwKQJLnooosybty41NfXp76+PhMmTMgtt9zSMt+YBqztzjrrrNTV1WXatGkt04xtAFA8CXRgrXDFFVdk+vTpOf300/Poo49mu+22y6RJk7Jw4cJahwbwLosXL852222XCy64YLXzzz777Jx//vm5+OKL8+CDD6Zv376ZNGlSlixZ0rLMEUcckSeffDK33357brzxxtxzzz05/vjjq9UEgBZ33313pk6dmgceeCC33357li9fnv322y+LFy9uWebkk0/ODTfckKuuuip33313XnnllRxyyCEt81esWJEDDjggy5Yty3333ZfLLrsss2bNymmnnVaLJgFd3IgRI3LWWWflkUceycMPP5y99947kydPzpNPPpnEmAas3R566KFccsklGTduXKvpxjYAKF5doVAo1DoIgPey6667Zuedd873v//9JElzc3NGjhyZE088MaecckqNowNoW11dXa699tocdNBBSf5x9/nw4cPzxS9+Mf/2b/+WJGlsbMzQoUMza9asHH744fnd736XsWPH5qGHHspOO+2UJLn11lvz0Y9+NH/6058yfPjwWjUHIK+++mqGDBmSu+++O3vuuWcaGxszePDgzJ49O4ceemiS5Omnn87WW2+d+++/P+PHj88tt9ySj33sY3nllVcydOjQJMnFF1+cL3/5y3n11VfTs2fPWjYJIIMGDcp3vvOdHHroocY0YK315ptvZocddsiFF16Yb3zjG9l+++1z3nnnuV4DgHZyBzrQ6S1btiyPPPJIJk6c2DKtW7dumThxYu6///4aRgbQfi+88ELmz5/fakxraGjIrrvu2jKm3X///RkwYEBL8jxJJk6cmG7duuXBBx+seswAK2tsbEzyj2RTkjzyyCNZvnx5q3Ftq622yqhRo1qNa9tuu23Ll7FJMmnSpDQ1NbXc8QlQCytWrMjll1+exYsXZ8KECcY0YK02derUHHDAAa3GsMT1GgC0V/daBwDwXl577bWsWLGi1QV8kgwdOjRPP/10jaIC6Jj58+cnyWrHtHfmzZ8/P0OGDGk1v3v37hk0aFDLMgC10NzcnGnTpmW33XbLNttsk+QfY1bPnj0zYMCAVsuuOq6tbtx7Zx5AtT3++OOZMGFClixZkn79+uXaa6/N2LFjM2/ePGMasFa6/PLL8+ijj+ahhx561zzXawDQPhLoAAAAFGXq1Kl54okn8utf/7rWoQCUZMstt8y8efPS2NiYq6++OkcddVTuvvvuWocF0CEvv/xyTjrppNx+++3p3bt3rcMBgLWeR7gDnd6GG26Y9dZbLwsWLGg1fcGCBRk2bFiNogLomHfGrTWNacOGDcvChQtbzX/77bfzt7/9zbgH1MwJJ5yQG2+8MXfeeWdGjBjRMn3YsGFZtmxZFi1a1Gr5Vce11Y1778wDqLaePXtms802y4477piZM2dmu+22y3e/+11jGrBWeuSRR7Jw4cLssMMO6d69e7p375677747559/frp3756hQ4ca2wCgHSTQgU6vZ8+e2XHHHTN37tyWac3NzZk7d24mTJhQw8gA2m/MmDEZNmxYqzGtqakpDz74YMuYNmHChCxatCiPPPJIyzJ33HFHmpubs+uuu1Y9ZqBrKxQKOeGEE3LttdfmjjvuyJgxY1rN33HHHdOjR49W49ozzzyTl156qdW49vjjj7f656Dbb7899fX1GTt2bHUaArAGzc3NWbp0qTENWCvts88+efzxxzNv3ryWn5122ilHHHFEy+/GNgAonke4A2uF6dOn56ijjspOO+2UXXbZJeedd14WL16cY445ptahAbzLm2++meeee67l7xdeeCHz5s3LoEGDMmrUqEybNi3f+MY3svnmm2fMmDH52te+luHDh+eggw5Kkmy99db5yEc+ks9+9rO5+OKLs3z58pxwwgk5/PDDM3z48Bq1Cuiqpk6dmtmzZ+f6669P//79W96B2dDQkD59+qShoSHHHntspk+fnkGDBqW+vj4nnnhiJkyYkPHjxydJ9ttvv4wdOzZHHnlkzj777MyfPz9f/epXM3Xq1PTq1auWzQO6oFNPPTX7779/Ro0alTfeeCOzZ8/OXXfdlTlz5hjTgLVS//79s80227Sa1rdv32ywwQYt041tAFA8CXRgrfDJT34yr776ak477bTMnz8/22+/fW699dYMHTq01qEBvMvDDz+cD3/4wy1/T58+PUly1FFHZdasWfnSl76UxYsX5/jjj8+iRYuy++6759Zbb231rrqf//znOeGEE7LPPvukW7dumTJlSs4///yqtwXgoosuSpLstdderaZfeumlOfroo5Mk5557bstYtXTp0kyaNCkXXnhhy7Lrrbdebrzxxnzuc5/LhAkT0rdv3xx11FGZMWNGtZoB0GLhwoX553/+5/zlL39JQ0NDxo0blzlz5mTfffdNYkwD1k3GNgAoXl2hUCjUOggAAAAAAAAAqDXvQAcAAAAAAACASKADAAAAAAAAQBIJdAAAAAAAAABIIoEOAAAAAAAAAEkk0AEAAAAAAAAgiQQ6AAAAAAAAACSRQAcAAAAAAACAJBLowFpm6dKlOeOMM7J06dJahwJQFsY1YF1jXAPWNcY1YF1jXAOANasrFAqFWgcBUKympqY0NDSksbEx9fX1tQ4HoGTGNWBdY1wD1jXGNWBdY1wDgDVzBzpQNRdccEE22WST9O7dO7vuumt+85vf1DokAAAAAAAAaCGBDlTFFVdckenTp+f000/Po48+mu222y6TJk3KwoULax0aAAAAAAAAJEm61zoAoGs455xz8tnPfjbHHHNMkuTiiy/OTTfdlB//+Mc55ZRT3nP95ubmvPLKK3nnrRNNTU0VjRegWt4Zz4xrwLrCuAasa4xrwLrGuAasKwqFQt54440MHz483bq5Z5jy8Q50oOKWLVuW9ddfP1dffXUOOuiglulHHXVUFi1alOuvv/5d6yxdujRLly5t+fvPf/5zxo4dW41wAQAAAACAtcTLL7+cESNG1DoM1iHuQAcq7rXXXsuKFSsydOjQVtOHDh2ap59+erXrzJw5M2eeeea7pu+ej6Z7elQkTgAAAAAAYO3wdpbn17k5/fv3r3UorGMk0IFO6dRTT8306dNb/m5qasrIkSPTPT3Sva51An3OK/Nafp80fPvVlrfyMqtqa51iFFN3OdbpzEptT1vrV7uf2rsfVXtfq4Zy9nln389rud/Vsm/KtZ9XSmfcbyoV05rGitXpLP1RrGLat7a1qb26Uh909mN3ZZU6jjtLu6ut2mNkZzx3laqzx742XRd09r5c25TSn6sew5XYHmvz9i7lmnxd/8zWGWOiYzrjdzqVWLcaOjKmFnMttTZto7XBut6+UlS8b/7/Z2zX1dWVv2y6NAl0oOI23HDDrLfeelmwYEGr6QsWLMiwYcNWu06vXr3Sq1evaoQHAAAAAAAASZJutQ4AWPf17NkzO+64Y+bOndsyrbm5OXPnzs2ECRNqGBkAAAAAAAD8n7pCoVCodRDAuu+KK67IUUcdlUsuuSS77LJLzjvvvFx55ZV5+umn3/Vu9NVpampKQ0ND9srkdz3CHQAAAAAA6FreLizPXbk+jY2Nqa+vr3U4rEM8wh2oik9+8pN59dVXc9ppp2X+/PnZfvvtc+uttxaVPAcAAAAAAIBqcAc6sFZwBzoAAAAAAPAOd6BTKd6BDgAAAAAAAACRQAcAAAAAAACAJBLoAAAAAAAAAJBEAh0AAAAAAAAAkkigAwAAAAAAAEASCXQAAAAAAAAASCKBDgAAAAAAAABJJNABAAAAAAAAIIkEOgAAAAAAAAAkkUAHAAAAAAAAgCQS6AAAAAAAAACQRAIdAAAAAAAAAJJIoAMAAAAAAABAEgl0AAAAAAAAAEgigQ4AAAAAAAAASSTQAQAAAAAAACCJBDoAAAAAAAAAJJFABwAAAAAAAIAkEugAAAAAAAAAkEQCHQAAAAAAAACSSKADZXDPPffkwAMPzPDhw1NXV5frrruu1fxCoZDTTjstG220Ufr06ZOJEyfm2WefrU2wAAAAAAAA0AYJdKBkixcvznbbbZcLLrhgtfPPPvvsnH/++bn44ovz4IMPpm/fvpk0aVKWLFlS5UgBAAAAAACgbd1rHQCw9tt///2z//77r3ZeoVDIeeedl69+9auZPHlykuQnP/lJhg4dmuuuuy6HH354NUMFAAAAAACANrkDHaioF154IfPnz8/EiRNbpjU0NGTXXXfN/fff3+Z6S5cuTVNTU6sfAAAAAAAAqCQJdKCi5s+fnyQZOnRoq+lDhw5tmbc6M2fOTENDQ8vPyJEjKxonAAAAAAAASKADndKpp56axsbGlp+XX3651iEBAAAAAACwjpNABypq2LBhSZIFCxa0mr5gwYKWeavTq1ev1NfXt/oBAAAAAACASpJABypqzJgxGTZsWObOndsyrampKQ8++GAmTJhQw8gAAAAAAACgte61DgBY+7355pt57rnnWv5+4YUXMm/evAwaNCijRo3KtGnT8o1vfCObb755xowZk6997WsZPnx4DjrooHbXde3vH099/26ZNHz71c6f88q81U5va/litbfctpZfdZ2VlysmxlLbV852rG7d9ranWG2VW8z0Ytcppr5qaG+fF1tWudpRzjJL2Z8rFcea9qPVWbXucm2/Yvqm2HGmGO3tgzWVX4lxuNTtXcx2aUs5j7dS2lHO7V1OlTrvvlf5Hamj1G1U6X27I2WW6zpiTWq5f7WlGufp9l57FLNuscuUMiaXEnepKtXuUuorZt1V16/E9W85z2PtjXVN2htve+srZ1tLKWdV5dq/OhJrNc8l5ayjmLqLvT6sxNhZahzlGl9LXb8a4/PKyhVHRz5/t3d7F1N+R+ooRke+dyhm/VLiWFUljplyft9SyufkUsfazvhZaWXr4rV2pb7rKeU7zXLtj2sqtxjVuCasxncN5TqfFlMX1JIEOlCyhx9+OB/+8Idb/p4+fXqS5KijjsqsWbPypS99KYsXL87xxx+fRYsWZffdd8+tt96a3r171ypkAAAAAAAAeBcJdKBke+21VwqFQpvz6+rqMmPGjMyYMaOKUQEAAAAAAED71BXWlPUC6CSamprS0NCQvTI53et61DocAAAAAACght4uLM9duT6NjY2pr6+vdTisQ7rVOgAAAAAAAAAA6Awk0AEAAAAAAAAg3oEO/P9WrFiRxx9/PKNHj87AgQNrHU7NzHllXsvvk4ZvX7V117R+e8utVBydRWePr1grt2NllWpTJfajYssspe6VFRPHqsutTftLOWMt5/arRH1t6ezbqFjrwn5XzPZadZ1aKmX/Wpu2V1K+64Vqq9R5r7O0u5TtsqbzWCViKnWdap9j2qsax0gt6yinStexpvJLvd57r+U7or3nxM64/1dDNT5vlrK9yzmmdpZtWe1zf2dpd0d0ltjX1vNppa4dOkvdnWX/aEupfbCySlxPVqrczjh+FdvuUo7jUj9zV/tacWWd5fh5J76mN5ozcIvaxsK6yR3o0EVNmzYt//3f/53kH8nzD33oQ9lhhx0ycuTI3HXXXbUNDgAAAAAAAGpAAh26qKuvvjrbbbddkuSGG27ICy+8kKeffjonn3xyvvKVr9Q4OgAAAAAAAKi+ukKhUKh1EED19e7dO88991xGjBiR448/Puuvv37OO++8vPDCC9luu+3S1NRU6xBbaWpqSkNDQ/bK5HSv61HrcAAAAAAAgBp6u7A8d+X6NDY2pr6+vtbhsA5xBzp0UUOHDs1TTz2VFStW5NZbb82+++6bJHnrrbey3nrr1Tg6AAAAAAAAqL7utQ4AqI1jjjkmhx12WDbaaKPU1dVl4sSJSZIHH3wwW221VY2jAwAAAAAAgOqTQIcu6owzzsg222yTl19+OZ/4xCfSq1evJMl6662XU045pcbRAQAAAAAAQPV5BzqQJUuWpHfv3rUOY43W9A70Oa/Ma/l90vDtV7v+ysusauV1iimrmHLXtG5bdbR3envLL1Znqa9c/VFqHO1dviP7WlvLFFN3set2JN73KndNfVbN9q26fCn7UaX2r5VVo+72bu9S4yh1HG5vfdVUy/5YWTnrLmb5YuPrLNu7UmNZuZQyJq6prHKN5x2pr5RlilXpfbicY21b5Xakb8q1H5bzGrmYdcp5Tiv1WqASMbVVX6nbe2XVviYpRilxFLtuuY7janwuaavuYsrpTDoyJq9OOa/P17R+e8qp1JjaEZUaK1anGp/Fq6Ha32dUSiWun6rRnnJ+9qnGd0vlul4oZt1q6Mi4VumxoiPXiu0tq5bf7RVTzprKKuf5qi3rwufYSn0memedpjeaM3CLP3gHOmXnHejQRa1YsSJf//rXs/HGG6dfv375wx/+kCT52te+lv/+7/+ucXQAAAAAAABQfRLo0EV985vfzKxZs3L22WenZ8+eLdO32Wab/OhHP6phZAAAAAAAAFAbHuEOXdRmm22WSy65JPvss0/69++fxx57LO973/vy9NNPZ8KECXn99ddrHWIra3qEOwAAAAAA0LW8XVieu3K9R7hTdu5Ahy7qz3/+czbbbLN3TW9ubs7y5ctrEBEAAAAAAADUlgQ6dFFjx47Nr371q3dNv/rqq/OBD3ygBhEBAAAAAABAbXWvdQBAbZx22mk56qij8uc//znNzc255ppr8swzz+QnP/lJbrzxxlqHBwAAAAAAAFXnDnTooiZPnpwbbrghv/zlL9O3b9+cdtpp+d3vfpcbbrgh++67b63DAwAAAAAAgKpzBzp0YXvssUduv/32WocBAAAAAAAAnYIEOrDWm/PKvJbfJw3f/j2XWVVb65Sr7nKs05mV2p621q92P7W3vmLiXlW52tFWHaX2f6lltVVuZ9zPa7nf1bJv2jtedsZtV22V6o81jRWrs7adY4ppX1favyo11lajvkqPG9W4RqtE+avWsbbuz6v2Uynbrxpj5Lpw7qrGtWI5dfbrllKW78raex2ysvZui2LXaa+1YXuX8pmjGp9XOmMfdsaY6Ji16TudlXXG/a4jY2pn/K5nXT++1/X2laIj393rQzoDj3CHLmTgwIEZNGhQUT/tMXPmzOy8887p379/hgwZkoMOOijPPPNMq2WWLFmSqVOnZoMNNki/fv0yZcqULFiwoJzNAwAAAAAAgJK4Ax26kPPOO68i5d59992ZOnVqdt5557z99tv5j//4j+y333556qmn0rdv3yTJySefnJtuuilXXXVVGhoacsIJJ+SQQw7JvffeW5GYAAAAAAAAoL3qCoVCodZBAOuWV199NUOGDMndd9+dPffcM42NjRk8eHBmz56dQw89NEny9NNPZ+utt87999+f8ePHv2eZTU1NaWhoyF6ZnO51Pary2LK16dE7xT5OvJqPvVxT3ZXo8zWtW4lH57V3mfYs11GV2t7lfNRSNR73Vc1jutqPvu0sr42o5WM5O/LI0Uq/PmFNddTytQDtfYR1LR+z2JZavkqhI+NaMcsXo7M+4rmYttbyNSPlenTnquuX69ioxuPOy3kuKde2LPU6tZiySl2+0ufKcp6zO8t+VEr55ayj1H5eWSWO71LPJcXoLK956SzXqcXW0RkfQ9zZX4lSbP+1d51qfyZqr2qM4aWOS+29RqvE9yLl1FmuHUpVSnwdOcaKUc4xsbNcK1ZjH67la2UqvQ931teBtOf7grcLy3NXrk9jY2Pq6+vLFgO4Ax26sBUrVuTaa6/N7373uyTJ2LFjM3ny5HTvXtrQ0NjYmCQtj4J/5JFHsnz58kycOLFlma222iqjRo1qM4G+dOnSLF26tOXvpqamkmICAAAAAACA9yKBDl3Uk08+mY9//OOZP39+ttxyyyTJt7/97QwePDg33HBDttlmmw6V29zcnGnTpmW33XZrKWP+/Pnp2bNnBgwY0GrZoUOHZv78+astZ+bMmTnzzDM7FAMAAAAAAAB0hEe4Qxc1YcKEDB48OJdddlkGDhyYJHn99ddz9NFH59VXX819993XoXI/97nP5ZZbbsmvf/3rjBgxIkkye/bsHHPMMa3uKE+SXXbZJR/+8Ifz7W9/+13lrO4O9JEjR7Y8wh0AAAAAAOi6PMKdSnEHOnRR8+bNy8MPP9ySPE+SgQMH5pvf/GZ23nnnDpV5wgkn5MYbb8w999zTkjxPkmHDhmXZsmVZtGhRq7vQFyxYkGHDhq22rF69eqVXr14digMAAAAAAAA6olutAwBqY4sttsiCBQveNX3hwoXZbLPN2lVWoVDICSeckGuvvTZ33HFHxowZ02r+jjvumB49emTu3Lkt05555pm89NJLmTBhQscaAAAAAAAAAGXmDnToQpqamlp+nzlzZr7whS/kjDPOyPjx45MkDzzwQGbMmLHaR6qvydSpUzN79uxcf/316d+/f8t7zRsaGtKnT580NDTk2GOPzfTp0zNo0KDU19fnxBNPzIQJE1rqLsWcV+a1/D5p+PbvucyqVl6nmLKKKXdN67ZVR3unt7f8YnWW+srVH6XG0d7lO7KvtbVMMXUXu25H4n2vctfUZ9VuXzFl1XL/KiWmStWxslLjKHUcbm991VTL/lhZOesuZvli4+ss27tSY1m5VHtca0ulrgsqsc+vqaxi6q7GPliuMXXVcsq1H5bzGrmYdcp5TmvvMVONmNqqr9TtvbJqX5MUo5Q4il23XMdxNT6XtFV3MeV0Jh0Zk1enI+NaKcdJe6/n11RHNVRqrFidanxWqoZqf59RKZW4fqpGe8r52aca3y2V63qhmHWroSPjWqXHio5cK7a3rFp+t1dMOWsqq5znq7asC59jK/WZ6J11mt5ozsAt2hUSFEUCHbqQAQMGpK6uruXvQqGQww47rGVaoVBIkhx44IFZsWJF0eVedNFFSZK99tqr1fRLL700Rx99dJLk3HPPTbdu3TJlypQsXbo0kyZNyoUXXlhCawAAAAAAAKC8JNChC7nzzjsrUu47ifc16d27dy644IJccMEFFYkBAAAAAAAASlVXKCbzBVBjTU1NaWhoyF6ZnO51PWodDgAAAAAAUENvF5bnrlyfxsbG1NfX1zoc1iHuQIcu7q233spLL72UZcuWtZo+bty4GkUEAAAAAAAAtSGBDl3Uq6++mmOOOSa33HLLaue35x3oAAAAAAAAsC7oVusAgNqYNm1aFi1alAcffDB9+vTJrbfemssuuyybb755/vd//7fW4QEAAAAAAEDVuQMduqg77rgj119/fXbaaad069Yto0ePzr777pv6+vrMnDkzBxxwQK1DBAAAAAAAgKpyBzp0UYsXL86QIUOSJAMHDsyrr76aJNl2223z6KOP1jI0AAAAAAAAqAl3oEMXteWWW+aZZ57JJptsku222y6XXHJJNtlkk1x88cXZaKONah1ezcx5ZV7L75OGb1+1dde0fnvLrVQcnUVnj69YK7djZZVqUyX2o2LLLKXulRUTx6rLrU37SzljLef2q0R9bens26hY68J+V8z2WnWdWipl/1qbtldSvuuFaqvUea+ztLuU7bKm81glYip1nWqfY9qrGsdILetYm5TzWrEa187tPSd2xv2/GqrxebNcn8s7sn5nVO1z/9q8D3eW2NfW82mlrh2qWU6t6yhFqf2/skpcT1aq3M44fhXb7lKO41I/c1f7mFlZZzl+3omv6Y3mDNyitrGwbpJAhy7qpJNOyl/+8pckyemnn56PfOQj+fnPf56ePXtm1qxZtQ0OAAAAAAAAakACHbqoT3/60y2/77jjjvnjH/+Yp59+OqNGjcqGG25Yw8gAAAAAAACgNiTQgSTJ+uuvnx122KHWYQAAAAAAAEDNSKBDFzJ9+vR8/etfT9++fTN9+vQ1LnvOOedUKarSlfru3XK+E6e963SWd8aUorO8+71U5XpHeKX2tbbqLrX8juzDtSx3dda2/a6zvBe2mGXWhTGqVNV4N1sxqv0OwlJ1pXfeF6Pa746r1HmiGu+qXVmlr9HK+Y7qtVWpbaj2GNmRa/3OphrXisXqjO/fbavu9i7flc4xHVHpY6ac78ztLJ8XO6KU2NvaRuXcdp2xDztjTHRMZ38/c2d/t/PKOjKmVqp9lbruXxcYv9rWkfOePqQzkECHLuT//b//l+XLlydJHn300dTV1a12ubamAwAAAAAAwLpMAh26kDvvvLPl97vuuqt2gQAAAAAAAEAnVFcoFAq1DgKoruXLl6dPnz6ZN29ettlmm1qHU5SmpqY0NDRkr0xO97oetQ4HAAAAAACoobcLy3NXrk9jY2Pq6+trHQ7rkG61DgCovh49emTUqFFZsWJFrUMBAAAAAACATkMCHbqor3zlK/mP//iP/O1vf6t1KAAAAAAAANApeAc6dFHf//7389xzz2X48OEZPXp0+vbt22r+o48+WqPIAAAAAAColDmvzGv5fdLw7WsWB0BnJYEOXdRBBx1U6xAAAAAAAACgU5FAhy7q9NNPr3UIAAAAAAAA0KlIoAMAAAAAAHQRHtsOsGbdah0AUBsrVqzIf/7nf2aXXXbJsGHDMmjQoFY/7XHRRRdl3Lhxqa+vT319fSZMmJBbbrmlZf6SJUsyderUbLDBBunXr1+mTJmSBQsWlLtJAAAAAAAAUBIJdOiizjzzzJxzzjn55Cc/mcbGxkyfPj2HHHJIunXrljPOOKNdZY0YMSJnnXVWHnnkkTz88MPZe++9M3ny5Dz55JNJkpNPPjk33HBDrrrqqtx999155ZVXcsghh1SgVQAAAAAAANBxdYVCoVDrIIDq23TTTXP++efngAMOSP/+/TNv3ryWaQ888EBmz55dUvmDBg3Kd77znRx66KEZPHhwZs+enUMPPTRJ8vTTT2frrbfO/fffn/HjxxdVXlNTUxoaGrJXJqd7XY+SYgMAAAAAANZubxeW565cn8bGxtTX19c6HNYh7kCHLmr+/PnZdtttkyT9+vVLY2NjkuRjH/tYbrrppg6Xu2LFilx++eVZvHhxJkyYkEceeSTLly/PxIkTW5bZaqutMmrUqNx///1tlrN06dI0NTW1+gEAAAAAAIBKkkCHLmrEiBH5y1/+kuQfd6PfdtttSZKHHnoovXr1and5jz/+ePr165devXrlX//1X3Pttddm7NixmT9/fnr27JkBAwa0Wn7o0KGZP39+m+XNnDkzDQ0NLT8jR45sd0wAAAAAAADQHhLo0EUdfPDBmTt3bpLkxBNPzNe+9rVsvvnm+ed//ud85jOfaXd5W265ZebNm5cHH3wwn/vc53LUUUflqaee6nB8p556ahobG1t+Xn755Q6XBQAAAAAAAMXoXusAgNo466yzWn7/5Cc/mdGjR+e+++7L5ptvngMPPLDd5fXs2TObbbZZkmTHHXfMQw89lO9+97v55Cc/mWXLlmXRokWt7kJfsGBBhg0b1mZ5vXr16tCd8AAAAAAAANBREujQRS1ZsiS9e/du+Xv8+PEZP3582cpvbm7O0qVLs+OOO6ZHjx6ZO3dupkyZkiR55pln8tJLL2XChAllqw8AAAAAAABKJYEOXdSQIUNy8MEH59Of/nT22WefdOvW8Tc6nHrqqdl///0zatSovPHGG5k9e3buuuuuzJkzJw0NDTn22GMzffr0DBo0KPX19TnxxBMzYcKEsibsAQAAAAAAoFTegQ5d1GWXXZa33norkydPzsYbb5xp06bl4Ycf7lBZCxcuzD//8z9nyy23zD777JOHHnooc+bMyb777pskOffcc/Oxj30sU6ZMyZ577plhw4blmmuuKWdzAAAAAAAAoGR1hUKhUOsggNp54403cvXVV+cXv/hF7rjjjrzvfe/Lpz/96Zx22mm1Dq2VpqamNDQ0ZK9MTve6HrUOBwAAAAAAqKG3C8tzV65PY2Nj6uvrax0O6xAJdKDFU089lSOOOCK//e1vs2LFilqH04oEOgAAAAAA8A4JdCrFI9yhi1uyZEmuvPLKHHTQQdlhhx3yt7/9Lf/+7/9e67AAAAAAAACg6rrXOgCgNubMmZPZs2fnuuuuS/fu3XPooYfmtttuy5577lnr0AAAAAAAAKAmJNChizr44IPzsY99LD/5yU/y0Y9+ND16eCw6AAAAAAAAXZsEOnRRCxYsSP/+/WsdBgAAAAAAAHQa3oEOXZTkOQAAAAAAALQmgQ4AAAAAAAAAkUAHAAAAAAAAgCQS6AAAAAAAAACQRAId+P81NTXluuuuy+9+97tahwIAAAAAAAA10b3WAQC1cdhhh2XPPffMCSeckL///e/Zaaed8uKLL6ZQKOTyyy/PlClTah1iWc15ZV6b8yYN375d6xez/Nqsrb5qq92l9k0x63eW/m9vrKvq7PtOOfu50tus2PLbG0c19rVa7s9r0/FWS+0dB0utY+VyS617Xdh+60IbknWnHVSG/ePdihkX18VzV2e8VqllfZ2lbtrWWbbL2nzdXurnyvdat5xxVEM5r707S5vo/NtibT6fdvZrh66kGt8drAvsg6yt3IEOXdQ999yTPfbYI0ly7bXXplAoZNGiRTn//PPzjW98o8bRAQAAAAAAQPVJoEMX1djYmEGDBiVJbr311kyZMiXrr79+DjjggDz77LM1jg4AAAAAAACqr65QKBRqHQRQfVtssUW+8Y1v5IADDsiYMWNy+eWXZ++9985jjz2WffbZJ6+99lqtQ2ylqakpDQ0N2SuT072uR63DAQAAAAAAaujtwvLclevT2NiY+vr6WofDOsQ70KGLmjZtWo444oj069cvo0aNyl577ZXkH49233bbbWsbHAAAAAAAANSABDp0UZ///Oezyy675OWXX86+++6bbt3+8UaH973vfd6BDgAAAAAAQJfkEe7QxS1btiwvvPBCNt1003Tv3nn/p8Yj3AEAAAAAgHd4hDuV0q3WAQC18dZbb+XYY4/N+uuvn/e///156aWXkiQnnnhizjrrrBpHBwAAAAAAANUngQ5d1KmnnprHHnssd911V3r37t0yfeLEibniiitqGBkAAAAAAADURud9XjNQUdddd12uuOKKjB8/PnV1dS3T3//+9+f555+vYWQAAAAAAABQG+5Ahy7q1VdfzZAhQ941ffHixa0S6u111llnpa6uLtOmTWuZtmTJkkydOjUbbLBB+vXrlylTpmTBggUdrgMAAAAAAAAqQQIduqiddtopN910U8vf7yTNf/SjH2XChAkdKvOhhx7KJZdcknHjxrWafvLJJ+eGG27IVVddlbvvvjuvvPJKDjnkkI4HDwAAAAAAABXgEe7QRX3rW9/K/vvvn6eeeipvv/12vvvd7+app57Kfffdl7vvvrvd5b355ps54ogj8sMf/jDf+MY3WqY3Njbmv//7vzN79uzsvffeSZJLL700W2+9dR544IGMHz++bG0CAAAAAACAUrgDHbqo3XffPfPmzcvbb7+dbbfdNrfddluGDBmS+++/PzvuuGO7y5s6dWoOOOCATJw4sdX0Rx55JMuXL281fauttsqoUaNy//33t1ne0qVL09TU1OoHAAAAAAAAKskd6NCFbbrppvnhD39YcjmXX355Hn300Tz00EPvmjd//vz07NkzAwYMaDV96NChmT9/fptlzpw5M2eeeWbJsQEAAAAAAECx3IEOXdTNN9+cOXPmvGv6nDlzcssttxRdzssvv5yTTjopP//5z9O7d++yxXfqqaemsbGx5efll18uW9kAAAAAAACwOhLo0EWdcsopWbFixbumFwqFnHLKKUWX88gjj2ThwoXZYYcd0r1793Tv3j133313zj///HTv3j1Dhw7NsmXLsmjRolbrLViwIMOGDWuz3F69eqW+vr7VDwAAAAAAAFSSR7hDF/Xss89m7Nix75q+1VZb5bnnniu6nH322SePP/54q2nHHHNMttpqq3z5y1/OyJEj06NHj8ydOzdTpkxJkjzzzDN56aWXMmHChNIaAQAAAAAAAGUkgQ5dVENDQ/7whz9kk002aTX9ueeeS9++fYsup3///tlmm21aTevbt2822GCDlunHHntspk+fnkGDBqW+vj4nnnhiJkyYkPHjx5fcDgAAAAAAACgXj3CHLmry5MmZNm1ann/++ZZpzz33XL74xS/m4x//eFnrOvfcc/Oxj30sU6ZMyZ577plhw4blmmuuKWsdAAAAAAAAUKq6QqFQqHUQQPU1NjbmIx/5SB5++OGMGDEiSfKnP/0pe+yxR6655poMGDCgtgGuoqmpKQ0NDdkrk9O9rketwwEAAAAAAGro7cLy3JXr09jYmPr6+lqHwzrEI9yhi2poaMh9992X22+/PY899lj69OmTcePGZc8996x1aAAAAAAAAFATEujQhdXV1WW//fbLfvvtV+tQAAAAAAAAoOYk0KELmzt3bubOnZuFCxemubm51bwf//jHNYoKAAAAAAAAakMCHbqoM888MzNmzMhOO+2UjTbaKHV1dbUOCQAAAAAAAGpKAh26qIsvvjizZs3KkUceWetQAAAAAAAAoFPoVusAgNpYtmxZPvjBD9Y6DAAAAAAAAOg0JNChizruuOMye/bsWocBAAAAAAAAnYZHuEMXtWTJkvzgBz/IL3/5y4wbNy49evRoNf+cc86pUWQAAAAAAABQGxLo0EX99re/zfbbb58keeKJJ1rNq6urq0FEAAAAAAAAUFsS6NBF3XnnnbUOAQAAAAAAADoV70AHAAAAAAAAgLgDHbq0hx9+OFdeeWVeeumlLFu2rNW8a665pkZRAQAAAAAAQG24Ax26qMsvvzwf/OAH87vf/S7XXnttli9fnieffDJ33HFHGhoaah0eAAAAAAAAVJ070KGL+ta3vpVzzz03U6dOTf/+/fPd7343Y8aMyb/8y79ko402qnV4bbr294+nvn/r//2ZNHz71S4755V577lMR6xcbjFxFFtWMeuXWndb9RUTRzF1r6mccvbb6rRV/qp1FNMHba1bKZWKqRJtqlQ/lXK8rhpTe8eE9vb/muoqZzuKqa+Yuss1FnbkGGtrmVLqLue+1pZKjefV2M8roSPHWFvLd8axtr3LtGe5Sqh03eXc3sXW0Z51V12/1HG7lDoqMdYWW8fK2tsHba1bqmofY5U+565abqXOp5W+Liv2/N1WudXevyqxXTvTeb2UPiz1Wra943M5l6/E8VPOz6HVuD5ZW68dSvmuYFWlfAdRbN2VrqMj42sl+r/an4FreY1W6lhbjc/A7Y2jGp9JSymr1P5rbxwdOZeUs9xS4qhG3dUcyzrL98vF1geV5g506KKef/75HHDAAUmSnj17ZvHixamrq8vJJ5+cH/zgBzWODgAAAAAAAKpPAh26qIEDB+aNN95Ikmy88cZ54oknkiSLFi3KW2+9VcvQAAAAAAAAoCbqCoVCodZBANX3T//0T9lpp50yffr0fP3rX8/3vve9TJ48Obfffnt22GGHXHPNNbUOsZWmpqY0NDRkr0xO97oetQ4HAAAAAACoobcLy3NXrk9jY2Pq6+trHQ7rEO9Ahy7q+9//fpYsWZIk+cpXvpIePXrkvvvuy5QpU/LVr361xtEBAAAAAABA9UmgQxc1aNCglt+7deuWU045pYbRAAAAAAAAQO1JoEMXtd566+Uvf/lLhgwZ0mr6X//61wwZMiQrVqyoUWSlmfPKvJbfJw3fvqrrt7XuytPLWW4xy6+qrbg60lftjaNcdXQk7mK2TSX6YE1xrKwadbdXOWMt1z7cGftpTSrRjnIe3+Xc/9tb38pqeUxWytrUjo6Mj6Uc05XqjzUdG6uru5bbqL2xrrpOuY6xNdW3LuuMx2e1rxXXVHcxcVT7HNNe1R5zKjW2dMZ9tb2KPZesrJQxrlTFfp57r7rXlf1/bf2sVOyY2lmOsUp8B1FqHCvrLNdPpar2NVAtt2u1v+tZWSU+6xYzHhcbx9q8D1daqd+1rayWnxE74zZem9tayrmh1O8C23NN2PRGcwZu8Z5VQLt1q3UAQG0UCoXVTl+6dGl69uzZrrLOOOOM1NXVtfrZaqutWuYvWbIkU6dOzQYbbJB+/fplypQpWbBgQUnxAwAAAAAAQLm5Ax26mPPPPz9JUldXlx/96Efp169fy7wVK1bknnvuaZX8Ltb73//+/PKXv2z5u3v3/xteTj755Nx000256qqr0tDQkBNOOCGHHHJI7r333hJaAgAAAAAAAOVVV2jrNlRgnTRmzJgkyR//+MeMGDEi6623Xsu8nj17ZpNNNsmMGTOy6667Fl3mGWeckeuuuy7z5s1717zGxsYMHjw4s2fPzqGHHpokefrpp7P11lvn/vvvz/jx44uqo6mpKQ0NDdkrk9O9rkfRsQEAAAAAAOuetwvLc1euT2NjY+rr62sdDusQd6BDF/PCCy8kST784Q/nmmuuycCBA8tS7rPPPpvhw4end+/emTBhQmbOnJlRo0blkUceyfLlyzNx4sSWZbfaaquMGjVqjQn0pUuXZunSpS1/NzU1lSVOAAAAAAAAaIt3oEMXdeedd7ZKnq9YsSLz5s3L66+/3u6ydt1118yaNSu33nprLrroorzwwgvZY4898sYbb2T+/Pnp2bNnBgwY0GqdoUOHZv78+W2WOXPmzDQ0NLT8jBw5st1xAQAAAAAAQHu4Ax26qGnTpmXbbbfNsccemxUrVmTPPffM/fffn/XXXz833nhj9tprr6LL2n///Vt+HzduXHbdddeMHj06V155Zfr06dOh+E499dRMnz695e+mpqaikuhzXpnX8vuk4duvdvqq2lqumOkdqbut9dtSTN1tLb+qcrW1mPiKbXd7+7aYMovV3rYWU86alNLPxdRXzv5oS7F1lBJjOdvX3v28XPvEqmUVo9rHd3vXLTauUo7jcvZ/KUrdB8t5zqhE3e2NY9VyylVHuZZfdZ22lLOfS9GRsbaUY6wY1W53sW2oRFydfZxJKn+tWGocpYxxxcZSynX4yiq1jct5HVHLa5VilGv/WtO4trJiP8N1NKY1Kde5uZbjTLF1V7r/OzKel6ufK/U5tFL72sra2/9trVtqHG2VW8v+6EhZtTxGKzV2FrPOyip9LbWm+sr1XVapY1mpdZRLpb5rqNTnq2LKaku1Y6pGuaXUXY3+r8ZY1lZ9lbh+as9ySdL0RnMGbrHaxaEk7kCHLuqqq67KdtttlyS54YYb8uKLL+bpp5/OySefnK985SsllT1gwIBsscUWee655zJs2LAsW7YsixYtarXMggULMmzYsDbL6NWrV+rr61v9AAAAAAAAQCVJoEMX9de//rUlgX3zzTfnE5/4RLbYYot85jOfyeOPP15S2W+++Waef/75bLTRRtlxxx3To0ePzJ07t2X+M888k5deeikTJkwoqR4AAAAAAAAop7pCoVCodRBA9Y0ePTo//OEPs88++2TMmDG56KKLcsABB+TJJ5/M7rvv3q53of/bv/1bDjzwwIwePTqvvPJKTj/99MybNy9PPfVUBg8enM997nO5+eabM2vWrNTX1+fEE09Mktx3331F19HU1JSGhobslcnpXtej3e0FAAAAAADWHW8XlueuXJ/GxkZPsaWsvAMduqhjjjkmhx12WDbaaKPU1dVl4sSJSZIHH3wwW221VbvK+tOf/pRPfepT+etf/5rBgwdn9913zwMPPJDBgwcnSc4999x069YtU6ZMydKlSzNp0qRceOGFZW8TAAAAAAAAlMId6NCFXX311Xn55ZfziU98IiNGjEiSXHbZZRkwYEAmT55c4+hacwc6AAAAAADwDnegUykS6MBaQQIdAAAAAAB4hwQ6leIR7tCFzZ07N3Pnzs3ChQvT3Nzcat6Pf/zjGkUFAAAAAAAAtSGBDl3UmWeemRkzZmSnnXZqeQ86AAAAAAAAdGUS6NBFXXzxxZk1a1aOPPLIWodSFXNemdfmvEnDt2/X+sUsvzZrb1tL7Zti1u/s/b+m/Wtl5Yq9rfpKLb+c/dxZtllbcbR3eqViWlk1+mldON6qoRrbqJh9sCN1rwvbr9ptWBf6bE06S/vaO/6sabl1QWfZLp1JKefmtbk/q33t3V617Nu1ebt2du293ih1+Upsv2pft1fjOrCtZdqyLn5mW1mlvl9YF3XGdnfGmFa2Np9Pa3nt0Nm3ay2tzeelSltb44ZutQ4AqI1ly5blgx/8YK3DAAAAAAAAgE5DAh26qOOOOy6zZ8+udRgAAAAAAADQadQVCoVCrYMAqu+kk07KT37yk4wbNy7jxo1Ljx49Ws0/55xzahTZ6jU1NaWhoSF7ZXK617WOtVKPEC+l3DWtW+361ialPBqw2o9HquXj/IpZd03rV+Lx1B2pu1L7eTWPh3XlccOd5ZH27X3MfkeUcz8vptxKPXq4mOO4vY/+LDWOcvVtsW2o9vHdVt2V2MbVGFOLLafSj/ktNq62yirnebO9dZQyTq0N54ty9X+x/VSJR5BW47UY5XwlR7nOxx25ZlpZpR+3Xc46yvUo7DWtX0ocpba7nNdolb6uq9R+11k+61bjGrSW57T2qvY+WO1XLFW7jmLqq+V3X53lOOyIUs4THRnLil3/vVTqmK7lKzlKPWeX6zN3MeVX6nNoRz7HV2K8rNR1Szm1Z99+u7A8d+X6NDY2pr6+vrKB0aV4Bzp0Ub/97W+z/fbbJ0meeOKJVvPq6upqEBEAAAAAAADUlgQ6dFF33nlnrUMAAAAAAACATsU70AEAAAAAAAAg3oEOXc4hhxxS1HLXXHNNhSNpnzW9Ax0AAAAAAOhavAOdSvEId+hiGhoaah0CAAAAAAAAdEoS6NDFXHrppbUOAQAAAAAAADolCXRgnTLnlXktv08avv1qp6+qreWKmd6Ruttavy3F1N3W8qsqV1uLia/Ydre3b4sps1jtbWsx5axJKf1cTH3l7I+2FFtHKTGWs33t3c/LtU+sWlYxqn18t3fdYuMq5TguZ/+XotR9sJznjErU3d44Vi2nXHWUa/lV12lLOfu5FB0Za0s5xopR7XYX24ZKxNXZx5mk8teKpcZRyhhXbCylXIevrFLbuJzXEbW8VilGufavNY1rKyv2M1xHY1qTcp2baznOFFt3pfu/I+N5ufq5Up9DK7Wvray9/d/WuqXG0Va5teyPjpRVy2O0UmNnMeusrNLXUmuqr1zfZZU6lpVaR7lU6ruGSn2+KqastlQ7pmqUW0rd1ej/aoxlbdVXieun9iyXJE1vNGfgFqtdHErSrdYBAAAAAAAAAEBnIIEOAAAAAAAAAEnqCoVCodZBALyXpqamNDQ0ZK9MTve6HrUOBwAAAAAAqKG3C8tzV65PY2Nj6uvrax0O6xB3oAMAAAAAAABAJNABAAAAAAAAIIkEOgAAAAAAAAAkkUAHyuTPf/5zPv3pT2eDDTZInz59su222+bhhx9umV8oFHLaaadlo402Sp8+fTJx4sQ8++yzNYwYAAAAAAAAWpNAB0r2+uuvZ7fddkuPHj1yyy235Kmnnsp//dd/ZeDAgS3LnH322Tn//PNz8cUX58EHH0zfvn0zadKkLFmypIaRAwAAAAAAwP+pKxQKhVoHAazdTjnllNx777351a9+tdr5hUIhw4cPzxe/+MX827/9W5KksbExQ4cOzaxZs3L44Ye/Zx1NTU1paGjIXpmc7nU92lxuzivzWn6fNHz7drWj1PVLrbtc5a68/KpWXr9S8VZaOeOuZR909v5vaz+qxnFVzrprqRLtKOfxXe1jqZj+6OzHRbHWpna0Feua2lDKMV2p/ljTsbG6ujvL+N+WjvR5e4+xNdW3LuuMx+eq26Wa16DFnlfaW19nOcaqMeZUamzpjPtqexV7LllZKWNcqYrZrsXUva7s/9VuR7m2cbFjamc5xjrLdxCu1TtPHbX8Xqu95a+qEp9111Tm2jQ+r4tKGbc7y3eo1bA2t7WUc0Op3wW255qw6Y3mDNziD2lsbEx9ff171gXFcgc6ULL//d//zU477ZRPfOITGTJkSD7wgQ/khz/8Ycv8F154IfPnz8/EiRNbpjU0NGTXXXfN/fffv9oyly5dmqamplY/AAAAAAAAUEkS6EDJ/vCHP+Siiy7K5ptvnjlz5uRzn/tcvvCFL+Syyy5LksyfPz9JMnTo0FbrDR06tGXeqmbOnJmGhoaWn5EjR1a2EQAAAAAAAHR53WsdALD2a25uzk477ZRvfetbSZIPfOADeeKJJ3LxxRfnqKOO6lCZp556aqZPn97yd1NTU0lJ9FIfMVXOR2N2lkcItaVcj+Yt56Pzinnc7ZrU8hFmKytX3ZV6hGWp/VypskrR3kdJdZZHYFVKMdulMz7yrNrWpsfEFlvu2qSWj4xdW/tsTTr7eNzWMmtabl3QWbZLZ1LKuXlt7s/O+FqMWtbXVt2UV6UfoV+N8byzP4a72HJLWaYacVRDLV8ftq7oLNtyZZ19W6zN59NaXjt0xn2ts+gsry7rjDr7eABtcQc6ULKNNtooY8eObTVt6623zksvvZQkGTZsWJJkwYIFrZZZsGBBy7xV9erVK/X19a1+AAAAAAAAoJIk0IGS7bbbbnnmmWdaTfv973+f0aNHJ0nGjBmTYcOGZe7cuS3zm5qa8uCDD2bChAlVjRUAAAAAAADaUlcoFAq1DgJYuz300EP54Ac/mDPPPDOHHXZYfvOb3+Szn/1sfvCDH+SII45Iknz729/OWWedlcsuuyxjxozJ1772tfz2t7/NU089ld69e79nHU1NTWloaMhemZzudT0q3SQAAAAAAKATe7uwPHfl+jQ2NnqKLWXlHehAyXbeeedce+21OfXUUzNjxoyMGTMm5513XkvyPEm+9KUvZfHixTn++OOzaNGi7L777rn11luLSp4DAAAAAABANbgDHVgruAMdAAAAAAB4hzvQqRR3oANAkea8Mq/l90nDt69ZHAAAAAAAQGV0q3UAAAAAAAAAANAZSKADAAAAAAAAQDzCHQCK5rHtAAAAAACwbnMHOgAAAAAAAABEAh0AAAAAAAAAkkigAwAAAAAAAEASCXQAAAAAAAAASCKBDgAAAAAAAABJJNABAAAAAAAAIIkEOgAAAAAAAAAkkUAHAAAAAAAAgCQS6AAAAAAAAACQRAIdAAAAAAAAAJJIoAMAAAAAAABAEgl0AAAAAAAAAEgigQ4AAAAAAAAASSTQAQAAAAAAACCJBDoAAAAAAAAAJJFABwAAAAAAAIAkEugAAAAAAAAAkEQCHQAAAAAAAACSJHWFQqFQ6yAA3ktjY2MGDBiQl19+OfX19bUOBwAAAAAAqKGmpqaMHDkyixYtSkNDQ63DYR3SvdYBABTjjTfeSJKMHDmyxpEAAAAAAACdxRtvvCGBTlm5Ax1YKzQ3N+eVV15JoVDIqFGj3IkOrDPe+U9Z4xqwrjCuAesa4xqwrjGuAeuKQqGQN954I8OHD0+3bt5aTfm4Ax1YK3Tr1i0jRoxIU1NTkqS+vt4FPrBOMa4B6xrjGrCuMa4B6xrjGrAucOc5leDfMQAAAAAAAAAgEugAAAAAAAAAkEQCHVjL9OrVK6effnp69epV61AAysK4BqxrjGvAusa4BqxrjGsAsGZ1hUKhUOsgAAAAAAAAAKDW3IEOAAAAAAAAAJFABwAAAAAAAIAkEugAAAAAAAAAkEQCHQAAAAAAAACSSKADAAAA7XT00UfnoIMOKktZm2yySc4777yylAUAAAClkkAHAAAAAAAAgEigAwAAACXYa6+98oUvfCFf+tKXMmjQoAwbNixnnHFGy/xCoZAzzjgjo0aNSq9evTJ8+PB84QtfaFn3j3/8Y04++eTU1dWlrq4uSfLXv/41n/rUp7Lxxhtn/fXXz7bbbptf/OIX7ao3SRYtWpR/+Zd/ydChQ9O7d+9ss802ufHGG1vm//rXv84ee+yRPn36ZOTIkfnCF76QxYsXt8y/8MILs/nmm6d3794ZOnRoDj300DL3HgAAAJ2NBDoAAABQkssuuyx9+/bNgw8+mLPPPjszZszI7bffniT5n//5n5x77rm55JJL8uyzz+a6667LtttumyS55pprMmLEiMyYMSN/+ctf8pe//CVJsmTJkuy444656aab8sQTT+T444/PkUcemd/85jdF19vc3Jz9998/9957b372s5/lqaeeyllnnZX11lsvSfL888/nIx/5SKZMmZLf/va3ueKKK/LrX/86J5xwQpLk4Ycfzhe+8IXMmDEjzzzzTG699dbsueeeVelPAAAAaqeuUCgUah0EAAAAsPY4+uijs2jRolx33XXZa6+9smLFivzqV79qmb/LLrtk7733zllnnZVzzjknl1xySZ544on06NHjXWVtsskmmTZtWqZNm7bGOj/2sY9lq622yn/+538myXvWe9ttt2X//ffP7373u2yxxRbvKu+4447Leuutl0suuaRl2q9//et86EMfyuLFi3PzzTfnmGOOyZ/+9Kf079+/vV0EAADAWsod6AAAAEBJxo0b1+rvjTbaKAsXLkySfOITn8jf//73vO9978tnP/vZXHvttXn77bfXWN6KFSvy9a9/Pdtuu20GDRqUfv36Zc6cOXnppZeKrnfevHkZMWLEapPnSfLYY49l1qxZ6devX8vPpEmT0tzcnBdeeCH77rtvRo8enfe973058sgj8/Of/zxvvfVWu/oFAACAtY8EOgAAAFCSVe8sr6urS3Nzc5Jk5MiReeaZZ3LhhRemT58++fznP58999wzy5cvb7O873znO/nud7+bL3/5y7nzzjszb968TJo0KcuWLSu63j59+qwx5jfffDP/8i//knnz5rX8PPbYY3n22Wez6aabpn///nn00Ufzi1/8IhtttFFOO+20bLfddlm0aFGx3QIAAMBaqHutAwAAAADWbX369MmBBx6YAw88MFOnTs1WW22Vxx9/PDvssEN69uyZFStWtFr+3nvvzeTJk/PpT386yT/eZ/773/8+Y8eOLbrOcePG5U9/+lN+//vfr/Yu9B122CFPPfVUNttsszbL6N69eyZOnJiJEyfm9NNPz4ABA3LHHXfkkEMOKToOAAAA1i4S6AAAAEDFzJo1KytWrMiuu+6a9ddfPz/72c/Sp0+fjB49Osk/3oF+zz335PDDD0+vXr2y4YYbZvPNN8/VV1+d++67LwMHDsw555yTBQsWtCuB/qEPfSh77rlnpkyZknPOOSebbbZZnn766dTV1eUjH/lIvvzlL2f8+PE54YQTctxxx6Vv37556qmncvvtt+f73/9+brzxxvzhD3/InnvumYEDB+bmm29Oc3Nzttxyy0p1FQAAAJ2AR7gDAAAAFTNgwID88Ic/zG677ZZx48bll7/8ZW644YZssMEGSZIZM2bkxRdfzKabbprBgwcnSb761a9mhx12yKRJk7LXXntl2LBhOeigg9pd9//8z/9k5513zqc+9amMHTs2X/rSl1rudh83blzuvvvu/P73v88ee+yRD3zgAznttNMyfPjwlrivueaa7L333tl6661z8cUX5xe/+EXe//73l6djAAAA6JTqCoVCodZBAAAAAAAAAECtuQMdAAAAAAAAACKBDgAAAAAAAABJJNABAAAAAAAAIIkEOgAAAAAAAAAkkUAHAAAAAAAAgCQS6AAAAAAAAACQRAIdAAAAAAAAAJJIoAMAAAAAAABAEgl0AAAAAAAAAEgigQ4AAAAAAAAASSTQAQAAAAAAACCJBDoAAAAAAAAAJJFABwAAAAAAAIAkEugAAAAAAAAAkEQCHQAAAAAAAACSSKADAAAAAAAAQBIJdAAAAAAAAABIIoEOAAAAAAAAAEkk0AEAAAAAAAAgiQQ6AAAAAAAAACSRQAcAAAAAAACAJBLoAAAAAAAAAJBEAh0AAAAAAAAAkkigAwAAAAAAAEASCXQAAAAAAAAASCKBDgAAAAAAAABJJNABAAAAAAAAIIkEOgAAAAAAAAAkkUAHAAAAAAAAgCQS6AAAAAAAAACQRAIdAAAAAAAAAJJIoAMAAAAAAABAEgl0AAAAAAAAAEgigQ4AAAAAAAAASSTQAQAAAAAAACCJBDoAAAAAAAAAJJFABwAAAAAAAIAkEugAAAAAAAAAkEQCHQAAAAAAAACSSKADAAAAAAAAQBIJdAAAAAAAAABIIoEOAAAAAAAAAEkk0AEAAAAAAAAgiQQ6AAAAAAAAACSRQAcAAAAAAACAJBLoAAAAAAAAAJBEAh0AAAAAAAAAkkigAwAAAAAAAEASCXQAAAAAAAAASCKBDgAAAAAAAABJJNABAAAAAAAAIIkEOgAAAAAAAAAkkUAHAAAAAAAAgCQS6AAAAAAAAACQRAIdAAAAAAAAAJJIoAMAAAAAAABAEgl0AAAAAAAAAEgigQ4AAAAAAAAASSTQAQAAAAAAACCJBDoAAAAAAAAAJEn+PyzMaBVU37HeAAAAAElFTkSuQmCC' width=2000.0/>\n",
       "            </div>\n",
       "        "
      ],
      "text/plain": [
       "Canvas(toolbar=Toolbar(toolitems=[('Home', 'Reset original view', 'home', 'home'), ('Back', 'Back to previous …"
      ]
     },
     "metadata": {},
     "output_type": "display_data"
    },
    {
     "name": "stdout",
     "output_type": "stream",
     "text": [
      "Matrix is 93.74% sparse\n"
     ]
    }
   ],
   "source": [
    "matrix = np.matrix(dataset_X)\n",
    "matrix = matrix\n",
    "print(matrix.shape)\n",
    "\n",
    "bin_matrix = matrix.copy()\n",
    "bin_matrix[bin_matrix > 0] = 1\n",
    "\n",
    "plot_matrix = bin_matrix[:500,:].T\n",
    "\n",
    "matfig = plt.figure(figsize=(20,4))\n",
    "plt.matshow(plot_matrix, fignum=matfig.number)\n",
    "plt.title('Subset of instances')\n",
    "plt.xlabel('Instances')\n",
    "plt.ylabel('Instances variables')\n",
    "plt.show()\n",
    "\n",
    "sparsisty = np.count_nonzero(matrix == 0) / matrix.size\n",
    "print(f'Matrix is {100 * sparsisty:3.2f}% sparse')\n"
   ]
  },
  {
   "cell_type": "markdown",
   "id": "c9b05377",
   "metadata": {},
   "source": [
    "## Creating model"
   ]
  },
  {
   "cell_type": "code",
   "execution_count": 20,
   "id": "28281840",
   "metadata": {},
   "outputs": [
    {
     "name": "stdout",
     "output_type": "stream",
     "text": [
      "Model: Sequential(\n",
      "  (0): Linear(in_features=70, out_features=35, bias=True)\n",
      "  (1): ReLU()\n",
      "  (2): Linear(in_features=35, out_features=1, bias=True)\n",
      "  (3): Sigmoid()\n",
      ")\n",
      "Model on device : cpu.\n"
     ]
    }
   ],
   "source": [
    "# device = torch.device('cuda:0' if torch.cuda.is_available() else 'cpu')\n",
    "device = 'cpu'\n",
    "\n",
    "n_hidden = 35\n",
    "model = nn.Sequential(\n",
    "    nn.Linear(70, n_hidden),\n",
    "    nn.ReLU(),\n",
    "    nn.Linear(n_hidden, 1),\n",
    "    nn.Sigmoid()\n",
    ")\n",
    "\n",
    "model.to(device)\n",
    "\n",
    "print(f'Model: {model}')\n",
    "print(f'Model on device : {next(model.parameters()).device}.')\n",
    "\n",
    "criterion = nn.MSELoss(reduction='sum')\n",
    "optimizer = optim.SGD(model.parameters(), lr=0.001, momentum=0.9)"
   ]
  },
  {
   "cell_type": "markdown",
   "id": "a831f4cc",
   "metadata": {},
   "source": [
    "## Perfoming cross-validation"
   ]
  },
  {
   "cell_type": "code",
   "execution_count": 21,
   "id": "4cd0a135",
   "metadata": {},
   "outputs": [
    {
     "name": "stdout",
     "output_type": "stream",
     "text": [
      "Starting 7-fold cross-validation.\n"
     ]
    },
    {
     "data": {
      "application/vnd.jupyter.widget-view+json": {
       "model_id": "216e030348954ef9a11f9118cfd595e5",
       "version_major": 2,
       "version_minor": 0
      },
      "text/plain": [
       "Cross-validation performed at   0%          | 0/7 [00:00<?, ?it/s]"
      ]
     },
     "metadata": {},
     "output_type": "display_data"
    },
    {
     "data": {
      "application/vnd.jupyter.widget-view+json": {
       "model_id": "7015ad84129b4f9e9c235075a1fe2f37",
       "version_major": 2,
       "version_minor": 0
      },
      "text/plain": [
       "  0%|          | 0/20 [00:00<?, ?it/s]"
      ]
     },
     "metadata": {},
     "output_type": "display_data"
    },
    {
     "data": {
      "application/vnd.jupyter.widget-view+json": {
       "model_id": "7a1c09b8a00b4098bc543681282ae6ee",
       "version_major": 2,
       "version_minor": 0
      },
      "text/plain": [
       "  0%|          | 0/20 [00:00<?, ?it/s]"
      ]
     },
     "metadata": {},
     "output_type": "display_data"
    },
    {
     "data": {
      "application/vnd.jupyter.widget-view+json": {
       "model_id": "8858e766f7bc42a9b1c3dab74e8a6858",
       "version_major": 2,
       "version_minor": 0
      },
      "text/plain": [
       "  0%|          | 0/20 [00:00<?, ?it/s]"
      ]
     },
     "metadata": {},
     "output_type": "display_data"
    },
    {
     "data": {
      "application/vnd.jupyter.widget-view+json": {
       "model_id": "96f57818a50b4a08a25031fe411b25b5",
       "version_major": 2,
       "version_minor": 0
      },
      "text/plain": [
       "  0%|          | 0/20 [00:00<?, ?it/s]"
      ]
     },
     "metadata": {},
     "output_type": "display_data"
    },
    {
     "data": {
      "application/vnd.jupyter.widget-view+json": {
       "model_id": "1cb13fb226f844f2b06d1101ea41ff06",
       "version_major": 2,
       "version_minor": 0
      },
      "text/plain": [
       "  0%|          | 0/20 [00:00<?, ?it/s]"
      ]
     },
     "metadata": {},
     "output_type": "display_data"
    },
    {
     "data": {
      "application/vnd.jupyter.widget-view+json": {
       "model_id": "288df0f71a8d47e98fcb992238d375c6",
       "version_major": 2,
       "version_minor": 0
      },
      "text/plain": [
       "  0%|          | 0/20 [00:00<?, ?it/s]"
      ]
     },
     "metadata": {},
     "output_type": "display_data"
    },
    {
     "data": {
      "application/vnd.jupyter.widget-view+json": {
       "model_id": "09a7b5f2d03248969210c996e667bbe7",
       "version_major": 2,
       "version_minor": 0
      },
      "text/plain": [
       "  0%|          | 0/20 [00:00<?, ?it/s]"
      ]
     },
     "metadata": {},
     "output_type": "display_data"
    },
    {
     "name": "stdout",
     "output_type": "stream",
     "text": [
      "Score mean : 37.64066617917016\n",
      "Score standard deviation : 4.72835391179165\n"
     ]
    },
    {
     "data": {
      "text/plain": [
       "[<matplotlib.lines.Line2D at 0x7fef5add5fa0>]"
      ]
     },
     "execution_count": 21,
     "metadata": {},
     "output_type": "execute_result"
    }
   ],
   "source": [
    "k = 7\n",
    "scores = cross_valisation(model=model, X=dataset_X, y=dataset_y, optimizer=optimizer, criterion=criterion, k=k, n_epoch=20)\n",
    "print(f'Score mean : {scores.mean()}')\n",
    "print(f'Score standard deviation : {scores.std()}')\n",
    "\n",
    "plt.title('Accuracy for each cross-validation iteration')\n",
    "plt.xlabel('Iteration number')\n",
    "plt.ylabel('Score')\n",
    "plt.plot(range(1, k + 1), scores)"
   ]
  }
 ],
 "metadata": {
  "kernelspec": {
   "display_name": "Python 3 (ipykernel)",
   "language": "python",
   "name": "python3"
  },
  "language_info": {
   "codemirror_mode": {
    "name": "ipython",
    "version": 3
   },
   "file_extension": ".py",
   "mimetype": "text/x-python",
   "name": "python",
   "nbconvert_exporter": "python",
   "pygments_lexer": "ipython3",
   "version": "3.9.5"
  }
 },
 "nbformat": 4,
 "nbformat_minor": 5
}
