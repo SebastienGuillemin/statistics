{
 "cells": [
  {
   "cell_type": "code",
   "execution_count": 1,
   "id": "dc0732f1-e14a-4518-b69a-b13de28a9f14",
   "metadata": {},
   "outputs": [],
   "source": [
    "from dataloader import get_dataloaders, load_samples_dataset\n",
    "from samples_dataset import SamplesDataset\n",
    "import numpy as np\n",
    "import torch\n",
    "import torch.nn as nn\n",
    "import torch.optim as optim\n",
    "from torch.utils.data import DataLoader\n",
    "from tqdm.notebook import tqdm\n",
    "\n",
    "%matplotlib widget \n",
    "from matplotlib import pyplot as plt"
   ]
  },
  {
   "cell_type": "markdown",
   "id": "3bfa7072",
   "metadata": {},
   "source": [
    "# Train method"
   ]
  },
  {
   "cell_type": "code",
   "execution_count": 2,
   "id": "ead53253",
   "metadata": {},
   "outputs": [],
   "source": [
    "def train(model, dataloader, optimizer, criterion, n_epoch=10, verbose=False):\n",
    "    device = next(model.parameters()).device\n",
    "    mean_loss = []\n",
    "    nb_examples = len(dataloader.dataset)\n",
    "\n",
    "    model.train(True)\n",
    "    for epoch in tqdm(range(n_epoch)):  # loop over the dataset multiple times\n",
    "        loss_sum = 0.0\n",
    "        for i, data in enumerate(dataloader):\n",
    "            inputs, labels = data\n",
    "            inputs = inputs.to(device)\n",
    "            labels = labels.to(device)\n",
    "\n",
    "            # zero the parameter gradients\n",
    "            optimizer.zero_grad()\n",
    "\n",
    "            # forward + backward + optimize\n",
    "            outputs = model(inputs)[:,0]\n",
    "            loss = criterion(outputs, labels)\n",
    "            loss.backward()\n",
    "            optimizer.step()\n",
    "\n",
    "            loss_sum += loss.item()\n",
    "        mean_loss.append(loss_sum / nb_examples)\n",
    "\n",
    "    if verbose:\n",
    "        print('Finished Training')\n",
    "        plt.title('Mean error for each epoch')\n",
    "        plt.xlabel('Epoch')\n",
    "        plt.ylabel('Mean error')\n",
    "        plt.plot(range(1, n_epoch + 1), mean_loss)"
   ]
  },
  {
   "cell_type": "markdown",
   "id": "01f3adbc",
   "metadata": {},
   "source": [
    "# Test method"
   ]
  },
  {
   "cell_type": "code",
   "execution_count": 3,
   "id": "fbc9b031",
   "metadata": {},
   "outputs": [],
   "source": [
    "def test(model, dataloader, verbose=False):\n",
    "    device = next(model.parameters()).device\n",
    "\n",
    "    model.eval()\n",
    "    \n",
    "    with torch.no_grad():\n",
    "        accuracy = 0.0\n",
    "        nb_examples = 0.0\n",
    "        for i, data in enumerate(dataloader):\n",
    "            inputs, labels = data\n",
    "            inputs = inputs.to(device)\n",
    "            labels = labels.to(device)\n",
    "            \n",
    "            nb_examples += len(inputs)\n",
    "\n",
    "            outputs = model(inputs)[:,0]\n",
    "            accuracy += torch.sum(outputs == labels).item()\n",
    "\n",
    "        accuracy /= nb_examples\n",
    "        return accuracy * 100"
   ]
  },
  {
   "cell_type": "markdown",
   "id": "aba0bccf",
   "metadata": {},
   "source": [
    "# Cross-validation method"
   ]
  },
  {
   "cell_type": "code",
   "execution_count": 4,
   "id": "1d789bd6",
   "metadata": {},
   "outputs": [],
   "source": [
    "def cross_valisation(model, X, y, optimizer, criterion, k=10, n_epoch=50):\n",
    "    scores = list()\n",
    "\n",
    "    if len(X) != len(y):\n",
    "            raise Exception(f'The size of X {len(X)} must be the same as the size y {len(y)}.')\n",
    "    \n",
    "    dataset_X_folds = np.array_split(X, k)\n",
    "    dataset_y_folds = np.array_split(y, k)\n",
    "\n",
    "    print(f'Starting {k}-fold cross-validation.')\n",
    "    pbar = tqdm(range(k), bar_format='Cross-validation performed at {percentage:3.0f}%{bar}{r_bar}')\n",
    "    for i in pbar:\n",
    "        samples_train = SamplesDataset()\n",
    "        dataset_X_train = np.concatenate(dataset_X_folds[0:i] + dataset_X_folds[i+1: len(dataset_X_folds)])\n",
    "        dataset_y_train = np.concatenate(dataset_y_folds[0:i] + dataset_y_folds[i+1: len(dataset_y_folds)])\n",
    "        samples_train.add_examples(dataset_X_train, dataset_y_train)\n",
    "\n",
    "        samples_test = SamplesDataset()\n",
    "        dataset_X_test = dataset_X_folds[i]\n",
    "        dataset_y_test = dataset_y_folds[i]\n",
    "        samples_test.add_examples(dataset_X_test, dataset_y_test)\n",
    "\n",
    "        train_dataloader = DataLoader(samples_train, batch_size=64, shuffle=True, pin_memory=True)\n",
    "        test_dataloader = DataLoader(samples_test, batch_size=64, shuffle=True, pin_memory=True)\n",
    "\n",
    "        train(model=model, dataloader=train_dataloader, optimizer=optimizer, criterion=criterion, n_epoch=n_epoch)\n",
    "        score = test(model=model, dataloader=test_dataloader)\n",
    "\n",
    "        scores.append(score)\n",
    "\n",
    "    return np.array(scores)"
   ]
  },
  {
   "cell_type": "markdown",
   "id": "7277d03f",
   "metadata": {},
   "source": [
    "# Main"
   ]
  },
  {
   "cell_type": "markdown",
   "id": "f0d83dfc",
   "metadata": {},
   "source": [
    "## Loading data"
   ]
  },
  {
   "cell_type": "code",
   "execution_count": 2,
   "id": "ee55ce96",
   "metadata": {},
   "outputs": [
    {
     "name": "stdout",
     "output_type": "stream",
     "text": [
      "Creating positive examples.\n"
     ]
    },
    {
     "data": {
      "application/vnd.jupyter.widget-view+json": {
       "model_id": "9860266b8277494083d16d9df5ecaec8",
       "version_major": 2,
       "version_minor": 0
      },
      "text/plain": [
       "  0%|          | 0/649 [00:00<?, ?it/s]"
      ]
     },
     "metadata": {},
     "output_type": "display_data"
    },
    {
     "name": "stdout",
     "output_type": "stream",
     "text": [
      "Creating negative examples.\n"
     ]
    },
    {
     "data": {
      "application/vnd.jupyter.widget-view+json": {
       "model_id": "67275ae43c164adc926e29d52c861600",
       "version_major": 2,
       "version_minor": 0
      },
      "text/plain": [
       "  0%|          | 0/7326 [00:00<?, ?it/s]"
      ]
     },
     "metadata": {},
     "output_type": "display_data"
    },
    {
     "name": "stdout",
     "output_type": "stream",
     "text": [
      "Dataset size : 14652\n"
     ]
    }
   ],
   "source": [
    "full_dataset = load_samples_dataset()\n",
    "full_dataset.shuffle()\n",
    "dataset_X, dataset_y = full_dataset.get_row_dataset()"
   ]
  },
  {
   "cell_type": "code",
   "execution_count": 13,
   "metadata": {},
   "outputs": [
    {
     "name": "stdout",
     "output_type": "stream",
     "text": [
      "(14652, 70)\n"
     ]
    },
    {
     "data": {
      "application/vnd.jupyter.widget-view+json": {
       "model_id": "110a26eda98946c1b22f6602091e746c",
       "version_major": 2,
       "version_minor": 0
      },
      "image/png": "[encoded data removed]",
      "text/html": [
       "\n",
       "            <div style=\"display: inline-block;\">\n",
       "                <div class=\"jupyter-widgets widget-label\" style=\"text-align: center;\">\n",
       "                    Figure\n",
       "                </div>\n",
       "                <img src='data:image/png;base64,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' width=2000.0/>\n",
       "            </div>\n",
       "        "
      ],
      "text/plain": [
       "Canvas(toolbar=Toolbar(toolitems=[('Home', 'Reset original view', 'home', 'home'), ('Back', 'Back to previous …"
      ]
     },
     "metadata": {},
     "output_type": "display_data"
    },
    {
     "name": "stdout",
     "output_type": "stream",
     "text": [
      "Matrix is 93.68% sparse\n"
     ]
    }
   ],
   "source": [
    "matrix = np.matrix(dataset_X)\n",
    "matrix = matrix\n",
    "print(matrix.shape)\n",
    "\n",
    "bin_matrix = matrix.copy()\n",
    "bin_matrix[bin_matrix > 0] = 1\n",
    "\n",
    "plot_matrix = bin_matrix[:500,:].T\n",
    "\n",
    "matfig = plt.figure(figsize=(20,4))\n",
    "plt.matshow(plot_matrix, fignum=matfig.number)\n",
    "plt.title('Subset of instances')\n",
    "plt.xlabel('Instances')\n",
    "plt.ylabel('Instances variables')\n",
    "plt.show()\n",
    "\n",
    "sparsisty = np.count_nonzero(matrix == 0) / matrix.size\n",
    "print(f'Matrix is {100 * sparsisty:3.2f}% sparse')\n"
   ]
  },
  {
   "cell_type": "markdown",
   "id": "c9b05377",
   "metadata": {},
   "source": [
    "## Creating model"
   ]
  },
  {
   "cell_type": "code",
   "execution_count": 7,
   "id": "28281840",
   "metadata": {},
   "outputs": [
    {
     "name": "stdout",
     "output_type": "stream",
     "text": [
      "Model: Sequential(\n",
      "  (0): Linear(in_features=70, out_features=35, bias=True)\n",
      "  (1): ReLU()\n",
      "  (2): Linear(in_features=35, out_features=1, bias=True)\n",
      "  (3): Sigmoid()\n",
      ")\n",
      "Model on device : cpu.\n"
     ]
    }
   ],
   "source": [
    "# device = torch.device('cuda:0' if torch.cuda.is_available() else 'cpu')\n",
    "device = 'cpu'\n",
    "\n",
    "n_hidden = 35\n",
    "model = nn.Sequential(\n",
    "    nn.Linear(70, n_hidden),\n",
    "    nn.ReLU(),\n",
    "    nn.Linear(n_hidden, 1),\n",
    "    nn.Sigmoid()\n",
    ")\n",
    "\n",
    "model.to(device)\n",
    "\n",
    "print(f'Model: {model}')\n",
    "print(f'Model on device : {next(model.parameters()).device}.')\n",
    "\n",
    "criterion = nn.MSELoss(reduction='sum')\n",
    "optimizer = optim.SGD(model.parameters(), lr=0.001, momentum=0.9)"
   ]
  },
  {
   "cell_type": "markdown",
   "id": "a831f4cc",
   "metadata": {},
   "source": [
    "## Perfoming cross-validation"
   ]
  },
  {
   "cell_type": "code",
   "execution_count": 8,
   "id": "4cd0a135",
   "metadata": {},
   "outputs": [
    {
     "name": "stdout",
     "output_type": "stream",
     "text": [
      "Starting 7-fold cross-validation.\n"
     ]
    },
    {
     "data": {
      "application/vnd.jupyter.widget-view+json": {
       "model_id": "c905a41839f241aaa76f4655e5318462",
       "version_major": 2,
       "version_minor": 0
      },
      "text/plain": [
       "Cross-validation performed at   0%          | 0/7 [00:00<?, ?it/s]"
      ]
     },
     "metadata": {},
     "output_type": "display_data"
    },
    {
     "data": {
      "application/vnd.jupyter.widget-view+json": {
       "model_id": "c26481db9346439392a48c50a3f82292",
       "version_major": 2,
       "version_minor": 0
      },
      "text/plain": [
       "  0%|          | 0/20 [00:00<?, ?it/s]"
      ]
     },
     "metadata": {},
     "output_type": "display_data"
    },
    {
     "data": {
      "application/vnd.jupyter.widget-view+json": {
       "model_id": "826775eea72e4ee69d7a0604e28cf87a",
       "version_major": 2,
       "version_minor": 0
      },
      "text/plain": [
       "  0%|          | 0/20 [00:00<?, ?it/s]"
      ]
     },
     "metadata": {},
     "output_type": "display_data"
    },
    {
     "data": {
      "application/vnd.jupyter.widget-view+json": {
       "model_id": "92acc00086514205aa5012b77b6cdc36",
       "version_major": 2,
       "version_minor": 0
      },
      "text/plain": [
       "  0%|          | 0/20 [00:00<?, ?it/s]"
      ]
     },
     "metadata": {},
     "output_type": "display_data"
    },
    {
     "data": {
      "application/vnd.jupyter.widget-view+json": {
       "model_id": "60c6c733173b486ab48a16a97688b14e",
       "version_major": 2,
       "version_minor": 0
      },
      "text/plain": [
       "  0%|          | 0/20 [00:00<?, ?it/s]"
      ]
     },
     "metadata": {},
     "output_type": "display_data"
    },
    {
     "data": {
      "application/vnd.jupyter.widget-view+json": {
       "model_id": "a32896a15a684ab2bf01a3cc880aab0d",
       "version_major": 2,
       "version_minor": 0
      },
      "text/plain": [
       "  0%|          | 0/20 [00:00<?, ?it/s]"
      ]
     },
     "metadata": {},
     "output_type": "display_data"
    },
    {
     "data": {
      "application/vnd.jupyter.widget-view+json": {
       "model_id": "e50cc89fd2724e0da13e1205a07bae89",
       "version_major": 2,
       "version_minor": 0
      },
      "text/plain": [
       "  0%|          | 0/20 [00:00<?, ?it/s]"
      ]
     },
     "metadata": {},
     "output_type": "display_data"
    },
    {
     "data": {
      "application/vnd.jupyter.widget-view+json": {
       "model_id": "9831d052d5134eff8a222aac13284a66",
       "version_major": 2,
       "version_minor": 0
      },
      "text/plain": [
       "  0%|          | 0/20 [00:00<?, ?it/s]"
      ]
     },
     "metadata": {},
     "output_type": "display_data"
    },
    {
     "name": "stdout",
     "output_type": "stream",
     "text": [
      "Score mean : 47.167741760099695\n",
      "Score standard deviation : 1.196580465834631\n"
     ]
    },
    {
     "data": {
      "text/plain": [
       "[<matplotlib.lines.Line2D at 0x7f5cd0171700>]"
      ]
     },
     "execution_count": 8,
     "metadata": {},
     "output_type": "execute_result"
    }
   ],
   "source": [
    "k = 7\n",
    "scores = cross_valisation(model=model, X=dataset_X, y=dataset_y, optimizer=optimizer, criterion=criterion, k=k, n_epoch=20)\n",
    "print(f'Score mean : {scores.mean()}')\n",
    "print(f'Score standard deviation : {scores.std()}')\n",
    "\n",
    "plt.title('Accuracy for each cross-validation iteration')\n",
    "plt.xlabel('Iteration number')\n",
    "plt.ylabel('Score')\n",
    "plt.plot(range(1, k + 1), scores)"
   ]
  }
 ],
 "metadata": {
  "kernelspec": {
   "display_name": "Python 3 (ipykernel)",
   "language": "python",
   "name": "python3"
  },
  "language_info": {
   "codemirror_mode": {
    "name": "ipython",
    "version": 3
   },
   "file_extension": ".py",
   "mimetype": "text/x-python",
   "name": "python",
   "nbconvert_exporter": "python",
   "pygments_lexer": "ipython3",
   "version": "3.9.5"
  }
 },
 "nbformat": 4,
 "nbformat_minor": 5
}
