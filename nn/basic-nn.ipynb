{
 "cells": [
  {
   "cell_type": "code",
   "execution_count": 1,
   "id": "dc0732f1-e14a-4518-b69a-b13de28a9f14",
   "metadata": {},
   "outputs": [],
   "source": [
    "from dataloader import load_dataset, split_dataset"
   ]
  },
  {
   "cell_type": "code",
   "execution_count": 2,
   "id": "daf88430-a039-4e3f-a289-c1fa06dbcce2",
   "metadata": {},
   "outputs": [
    {
     "name": "stdout",
     "output_type": "stream",
     "text": [
      "11721\n",
      "2931\n"
     ]
    }
   ],
   "source": [
    "train_dataset, test_dataset = split_dataset(load_dataset())"
   ]
  },
  {
   "cell_type": "code",
   "execution_count": null,
   "id": "4a9fb617-52cf-4ac6-9246-ae9e02e869cb",
   "metadata": {},
   "outputs": [],
   "source": []
  }
 ],
 "metadata": {
  "kernelspec": {
   "display_name": "Python 3 (ipykernel)",
   "language": "python",
   "name": "python3"
  },
  "language_info": {
   "codemirror_mode": {
    "name": "ipython",
    "version": 3
   },
   "file_extension": ".py",
   "mimetype": "text/x-python",
   "name": "python",
   "nbconvert_exporter": "python",
   "pygments_lexer": "ipython3",
   "version": "3.9.5"
  }
 },
 "nbformat": 4,
 "nbformat_minor": 5
}
