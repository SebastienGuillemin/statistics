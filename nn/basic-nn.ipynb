{
 "cells": [
  {
   "cell_type": "code",
   "execution_count": 1,
   "id": "dc0732f1-e14a-4518-b69a-b13de28a9f14",
   "metadata": {},
   "outputs": [],
   "source": [
    "import dataloader as dl\n",
    "import random"
   ]
  },
  {
   "cell_type": "code",
   "execution_count": 7,
   "id": "38f9278b-4781-42ab-b6bd-a3f0d37289eb",
   "metadata": {},
   "outputs": [
    {
     "name": "stdout",
     "output_type": "stream",
     "text": [
      "(3, 55)\n"
     ]
    }
   ],
   "source": [
    "samples = dl.load_samples(subsample_size=3)\n",
    "clean_samples = samples.drop(columns=['id', 'num_echantillon', 'id_lot'])\n",
    "print(samples.shape)"
   ]
  },
  {
   "cell_type": "code",
   "execution_count": 8,
   "id": "ab757c54-2d28-4952-baaa-1e5af6eaca76",
   "metadata": {},
   "outputs": [
    {
     "name": "stdout",
     "output_type": "stream",
     "text": [
      "4\n"
     ]
    }
   ],
   "source": [
    "dataset = []\n",
    "ids = samples['id_lot'].unique()\n",
    "\n",
    "for id in ids:\n",
    "    batch_samples = list(clean_samples.loc[samples['id_lot'] == id].itertuples(index=False, name=None))\n",
    "\n",
    "    for sample1 in batch_samples:\n",
    "        for sample2 in batch_samples:\n",
    "            if sample1 != sample2:\n",
    "                dataset.append((sample1, sample2, 1))\n",
    "\n",
    "print(len(dataset))"
   ]
  },
  {
   "cell_type": "code",
   "execution_count": 9,
   "id": "0f55afe7-af1a-4c94-9cbf-f971ecb58b5f",
   "metadata": {},
   "outputs": [
    {
     "name": "stdout",
     "output_type": "stream",
     "text": [
      "4\n",
      "[((0.0, 0.0, 0.0, 0.0, None, 0.0, 0.0, 0.0, 0.0, 0.0, 0.0, 0.0, 0.0, 0.0, 'Beige', None, None, None, None, 0.0, 0.0, None, 0.0, 0.0, None, None, 0.0, 0.0, 0.0, 17.0, 0.0, 0.0, 0.0, 0.0, None, 0.0, 0.0, 0.0, 0.0, 0.0, None, 0.0, 0.0, None, 0.0, 0.0, None, 0.0, None, None, 'Héroïne', None), (0.0, 0.0, 0.0, 0.0, None, 0.0, 0.0, 0.0, 0.0, 0.0, 0.0, 0.0, 0.0, 0.0, 'Beige', None, None, None, None, 0.0, 0.0, None, 0.0, 0.0, None, None, 0.0, 0.0, 0.0, 16.0, 0.0, 0.0, 0.0, 0.0, None, 0.0, 0.0, 0.0, 0.0, 0.0, None, 0.0, 0.0, None, 0.0, 0.0, None, 0.0, None, None, 'Héroïne', None), 1), ((0.0, 0.0, 0.0, 0.0, None, 0.0, 0.0, 0.0, 0.0, 0.0, 0.0, 0.0, 0.0, 0.0, 'Beige', None, None, None, None, 0.0, 0.0, None, 0.0, 0.0, None, None, 0.0, 0.0, 0.0, 17.0, 0.0, 0.0, 0.0, 0.0, None, 0.0, 0.0, 0.0, 0.0, 0.0, None, 0.0, 0.0, None, 0.0, 0.0, None, 0.0, None, None, 'Héroïne', None), (0.0, 0.0, 0.0, 0.0, None, 0.0, 0.0, 0.0, 0.0, 0.0, 0.0, 0.0, 0.0, 0.0, 'Beige', None, None, None, None, 0.0, 0.0, None, 0.0, 0.0, None, None, 0.0, 0.0, 0.0, 16.0, 0.0, 0.0, 0.0, 0.0, None, 0.0, 0.0, 0.0, 0.0, 0.0, None, 0.0, 0.0, None, 0.0, 0.0, None, 0.0, None, None, 'Héroïne', None), 1), ((0.0, 0.0, 0.0, 0.0, None, 0.0, 0.0, 0.0, 0.0, 0.0, 0.0, 0.0, 0.0, 0.0, 'Beige', None, None, None, None, 0.0, 0.0, None, 0.0, 0.0, None, None, 0.0, 0.0, 0.0, 16.0, 0.0, 0.0, 0.0, 0.0, None, 0.0, 0.0, 0.0, 0.0, 0.0, None, 0.0, 0.0, None, 0.0, 0.0, None, 0.0, None, None, 'Héroïne', None), (0.0, 0.0, 0.0, 0.0, None, 0.0, 0.0, 0.0, 0.0, 0.0, 0.0, 0.0, 0.0, 0.0, 'Beige', None, None, None, None, 0.0, 0.0, None, 0.0, 0.0, None, None, 0.0, 0.0, 0.0, 17.0, 0.0, 0.0, 0.0, 0.0, None, 0.0, 0.0, 0.0, 0.0, 0.0, None, 0.0, 0.0, None, 0.0, 0.0, None, 0.0, None, None, 'Héroïne', None), 1), ((0.0, 0.0, 0.0, 0.0, None, 0.0, 0.0, 0.0, 0.0, 0.0, 0.0, 0.0, 0.0, 0.0, 'Beige', None, None, None, None, 0.0, 0.0, None, 0.0, 0.0, None, None, 0.0, 0.0, 0.0, 16.0, 0.0, 0.0, 0.0, 0.0, None, 0.0, 0.0, 0.0, 0.0, 0.0, None, 0.0, 0.0, None, 0.0, 0.0, None, 0.0, None, None, 'Héroïne', None), (0.0, 0.0, 0.0, 0.0, None, 0.0, 0.0, 0.0, 0.0, 0.0, 0.0, 0.0, 0.0, 0.0, 'Beige', None, None, None, None, 0.0, 0.0, None, 0.0, 0.0, None, None, 0.0, 0.0, 0.0, 17.0, 0.0, 0.0, 0.0, 0.0, None, 0.0, 0.0, 0.0, 0.0, 0.0, None, 0.0, 0.0, None, 0.0, 0.0, None, 0.0, None, None, 'Héroïne', None), 1), (((0.0, 0.0, 0.0, 0.0, None, 0.0, 0.0, 0.0, 0.0, 0.0, 0.0, 0.0, 0.0, 0.0, 'Beige', None, None, None, None, 0.0, 0.0, None, 0.0, 0.0, None, None, 0.0, 0.0, 0.0, 17.0, 0.0, 0.0, 0.0, 0.0, None, 0.0, 0.0, 0.0, 0.0, 0.0, None, 0.0, 0.0, None, 0.0, 0.0, None, 0.0, None, None, 'Héroïne', None), (0.0, 0.0, 0.0, 0.0, None, 0.0, 0.0, 0.0, 0.0, 0.0, 0.0, 0.0, 0.0, 0.0, 'Beige', None, None, None, None, 0.0, 0.0, None, 0.0, 0.0, None, None, 0.0, 0.0, 0.0, 16.0, 0.0, 0.0, 0.0, 0.0, None, 0.0, 0.0, 0.0, 0.0, 0.0, None, 0.0, 0.0, None, 0.0, 0.0, None, 0.0, None, None, 'Héroïne', None), 1), ((0.0, 0.0, 0.0, 0.0, None, 0.0, 0.0, 0.0, 0.0, 0.0, 0.0, 0.0, 0.0, 0.0, 'Beige', None, None, None, None, 0.0, 0.0, None, 0.0, 0.0, None, None, 0.0, 0.0, 0.0, 16.0, 0.0, 0.0, 0.0, 0.0, None, 0.0, 0.0, 0.0, 0.0, 0.0, None, 0.0, 0.0, None, 0.0, 0.0, None, 0.0, None, None, 'Héroïne', None), (0.0, 0.0, 0.0, 0.0, None, 0.0, 0.0, 0.0, 0.0, 0.0, 0.0, 0.0, 0.0, 0.0, 'Beige', None, None, None, None, 0.0, 0.0, None, 0.0, 0.0, None, None, 0.0, 0.0, 0.0, 17.0, 0.0, 0.0, 0.0, 0.0, None, 0.0, 0.0, 0.0, 0.0, 0.0, None, 0.0, 0.0, None, 0.0, 0.0, None, 0.0, None, None, 'Héroïne', None), 1), 0), (((0.0, 0.0, 0.0, 0.0, None, 0.0, 0.0, 0.0, 0.0, 0.0, 0.0, 0.0, 0.0, 0.0, 'Beige', None, None, None, None, 0.0, 0.0, None, 0.0, 0.0, None, None, 0.0, 0.0, 0.0, 17.0, 0.0, 0.0, 0.0, 0.0, None, 0.0, 0.0, 0.0, 0.0, 0.0, None, 0.0, 0.0, None, 0.0, 0.0, None, 0.0, None, None, 'Héroïne', None), (0.0, 0.0, 0.0, 0.0, None, 0.0, 0.0, 0.0, 0.0, 0.0, 0.0, 0.0, 0.0, 0.0, 'Beige', None, None, None, None, 0.0, 0.0, None, 0.0, 0.0, None, None, 0.0, 0.0, 0.0, 16.0, 0.0, 0.0, 0.0, 0.0, None, 0.0, 0.0, 0.0, 0.0, 0.0, None, 0.0, 0.0, None, 0.0, 0.0, None, 0.0, None, None, 'Héroïne', None), 1), ((0.0, 0.0, 0.0, 0.0, None, 0.0, 0.0, 0.0, 0.0, 0.0, 0.0, 0.0, 0.0, 0.0, 'Beige', None, None, None, None, 0.0, 0.0, None, 0.0, 0.0, None, None, 0.0, 0.0, 0.0, 16.0, 0.0, 0.0, 0.0, 0.0, None, 0.0, 0.0, 0.0, 0.0, 0.0, None, 0.0, 0.0, None, 0.0, 0.0, None, 0.0, None, None, 'Héroïne', None), (0.0, 0.0, 0.0, 0.0, None, 0.0, 0.0, 0.0, 0.0, 0.0, 0.0, 0.0, 0.0, 0.0, 'Beige', None, None, None, None, 0.0, 0.0, None, 0.0, 0.0, None, None, 0.0, 0.0, 0.0, 17.0, 0.0, 0.0, 0.0, 0.0, None, 0.0, 0.0, 0.0, 0.0, 0.0, None, 0.0, 0.0, None, 0.0, 0.0, None, 0.0, None, None, 'Héroïne', None), 1), 0), (((0.0, 0.0, 0.0, 0.0, None, 0.0, 0.0, 0.0, 0.0, 0.0, 0.0, 0.0, 0.0, 0.0, 'Beige', None, None, None, None, 0.0, 0.0, None, 0.0, 0.0, None, None, 0.0, 0.0, 0.0, 16.0, 0.0, 0.0, 0.0, 0.0, None, 0.0, 0.0, 0.0, 0.0, 0.0, None, 0.0, 0.0, None, 0.0, 0.0, None, 0.0, None, None, 'Héroïne', None), (0.0, 0.0, 0.0, 0.0, None, 0.0, 0.0, 0.0, 0.0, 0.0, 0.0, 0.0, 0.0, 0.0, 'Beige', None, None, None, None, 0.0, 0.0, None, 0.0, 0.0, None, None, 0.0, 0.0, 0.0, 17.0, 0.0, 0.0, 0.0, 0.0, None, 0.0, 0.0, 0.0, 0.0, 0.0, None, 0.0, 0.0, None, 0.0, 0.0, None, 0.0, None, None, 'Héroïne', None), 1), ((0.0, 0.0, 0.0, 0.0, None, 0.0, 0.0, 0.0, 0.0, 0.0, 0.0, 0.0, 0.0, 0.0, 'Beige', None, None, None, None, 0.0, 0.0, None, 0.0, 0.0, None, None, 0.0, 0.0, 0.0, 16.0, 0.0, 0.0, 0.0, 0.0, None, 0.0, 0.0, 0.0, 0.0, 0.0, None, 0.0, 0.0, None, 0.0, 0.0, None, 0.0, None, None, 'Héroïne', None), (0.0, 0.0, 0.0, 0.0, None, 0.0, 0.0, 0.0, 0.0, 0.0, 0.0, 0.0, 0.0, 0.0, 'Beige', None, None, None, None, 0.0, 0.0, None, 0.0, 0.0, None, None, 0.0, 0.0, 0.0, 17.0, 0.0, 0.0, 0.0, 0.0, None, 0.0, 0.0, 0.0, 0.0, 0.0, None, 0.0, 0.0, None, 0.0, 0.0, None, 0.0, None, None, 'Héroïne', None), 1), 0), (((0.0, 0.0, 0.0, 0.0, None, 0.0, 0.0, 0.0, 0.0, 0.0, 0.0, 0.0, 0.0, 0.0, 'Beige', None, None, None, None, 0.0, 0.0, None, 0.0, 0.0, None, None, 0.0, 0.0, 0.0, 16.0, 0.0, 0.0, 0.0, 0.0, None, 0.0, 0.0, 0.0, 0.0, 0.0, None, 0.0, 0.0, None, 0.0, 0.0, None, 0.0, None, None, 'Héroïne', None), (0.0, 0.0, 0.0, 0.0, None, 0.0, 0.0, 0.0, 0.0, 0.0, 0.0, 0.0, 0.0, 0.0, 'Beige', None, None, None, None, 0.0, 0.0, None, 0.0, 0.0, None, None, 0.0, 0.0, 0.0, 17.0, 0.0, 0.0, 0.0, 0.0, None, 0.0, 0.0, 0.0, 0.0, 0.0, None, 0.0, 0.0, None, 0.0, 0.0, None, 0.0, None, None, 'Héroïne', None), 1), ((0.0, 0.0, 0.0, 0.0, None, 0.0, 0.0, 0.0, 0.0, 0.0, 0.0, 0.0, 0.0, 0.0, 'Beige', None, None, None, None, 0.0, 0.0, None, 0.0, 0.0, None, None, 0.0, 0.0, 0.0, 16.0, 0.0, 0.0, 0.0, 0.0, None, 0.0, 0.0, 0.0, 0.0, 0.0, None, 0.0, 0.0, None, 0.0, 0.0, None, 0.0, None, None, 'Héroïne', None), (0.0, 0.0, 0.0, 0.0, None, 0.0, 0.0, 0.0, 0.0, 0.0, 0.0, 0.0, 0.0, 0.0, 'Beige', None, None, None, None, 0.0, 0.0, None, 0.0, 0.0, None, None, 0.0, 0.0, 0.0, 17.0, 0.0, 0.0, 0.0, 0.0, None, 0.0, 0.0, 0.0, 0.0, 0.0, None, 0.0, 0.0, None, 0.0, 0.0, None, 0.0, None, None, 'Héroïne', None), 1), 0)]\n",
      "8\n"
     ]
    }
   ],
   "source": [
    "dataset_size = len(dataset)\n",
    "counter_examples = []\n",
    "print(dataset_size)\n",
    "\n",
    "for tuple in dataset:\n",
    "    new_tuple = (tuple, dataset[random.randint(3, dataset_size - 1)], 1)\n",
    "    \n",
    "    while new_tuple in dataset:\n",
    "        print(new_tuple)\n",
    "        new_tuple = (tuple, dataset(random.randint(3, dataset_size - 1)), 1)\n",
    "\n",
    "    new_tuple = (new_tuple[0], new_tuple[1], 0)\n",
    "    counter_examples.append(new_tuple)\n",
    "\n",
    "dataset += counter_examples\n",
    "\n",
    "print(dataset)\n",
    "print(len(dataset))"
   ]
  },
  {
   "cell_type": "code",
   "execution_count": null,
   "id": "088a6400-fa97-4e39-a6de-511330efa07e",
   "metadata": {},
   "outputs": [],
   "source": []
  }
 ],
 "metadata": {
  "kernelspec": {
   "display_name": "Python 3 (ipykernel)",
   "language": "python",
   "name": "python3"
  },
  "language_info": {
   "codemirror_mode": {
    "name": "ipython",
    "version": 3
   },
   "file_extension": ".py",
   "mimetype": "text/x-python",
   "name": "python",
   "nbconvert_exporter": "python",
   "pygments_lexer": "ipython3",
   "version": "3.9.5"
  }
 },
 "nbformat": 4,
 "nbformat_minor": 5
}
