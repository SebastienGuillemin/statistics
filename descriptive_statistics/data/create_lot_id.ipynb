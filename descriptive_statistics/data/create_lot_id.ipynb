{
 "cells": [
  {
   "cell_type": "code",
   "execution_count": null,
   "id": "db1b08c3-8c44-4641-8f3d-50aa6eeb15f1",
   "metadata": {},
   "outputs": [],
   "source": [
    "import psycopg2\n",
    "import pandas as pd\n",
    "pd.options.mode.chained_assignment = None\n",
    "from tqdm.notebook import tqdm\n",
    "import math"
   ]
  },
  {
   "cell_type": "code",
   "execution_count": null,
   "id": "b75f2069-1282-4fe5-b686-d6f1bfe4d51d",
   "metadata": {},
   "outputs": [],
   "source": [
    "# Loading data\n",
    "conn = psycopg2.connect(database=\"full_STUPS\",\n",
    "                        user=\"postgres\",\n",
    "                        host='localhost',\n",
    "                        password=\"postgres\",\n",
    "                        port=5432)\n",
    "cur = conn.cursor()\n",
    "cur.execute('SELECT id_composition as \"e1\", id_composition_lien as \"e2\", 2147483647 as \"id_lot\" FROM lot_echantillon where id_composition is not null and id_composition_lien is not null')\n",
    "samples = cur.fetchall()\n",
    "conn.close()\n",
    "colnames = [desc[0] for desc in cur.description]\n",
    "\n",
    "df = pd.DataFrame(list(samples), columns=colnames)\n",
    "#df = df.iloc[:500, :]\n",
    "display(df)"
   ]
  },
  {
   "cell_type": "code",
   "execution_count": null,
   "id": "11093331-3c9b-43e1-9084-025e72a966ed",
   "metadata": {},
   "outputs": [],
   "source": [
    "def in_df(name_1, v1, name_2, v2, df):\n",
    "    for i in df.index:\n",
    "        if df[name_1][i] == v1 and df[name_2][i] == v2:\n",
    "            return True\n",
    "    return False"
   ]
  },
  {
   "cell_type": "code",
   "execution_count": null,
   "id": "2b0f8d47-1f11-43c8-8539-7e05c3d1f2d1",
   "metadata": {},
   "outputs": [],
   "source": [
    "def undirect_links(df):\n",
    "    print(\"Undirecting links.\")\n",
    "    for i in tqdm(df.index):\n",
    "        df.loc[df.shape[0]] = [df['e2'][i], df['e1'][i], df['id_lot'][i]]\n",
    "    df = df.drop_duplicates(keep='first', ignore_index=True)\n",
    "    return df\n",
    "\n",
    "def expand(df, start_search_index):\n",
    "    df_2 = df.copy()\n",
    "    for i in tqdm(df.index):\n",
    "        neighbors = []\n",
    "        e1 = df['e1'][i]\n",
    "        e2 = df['e2'][i]\n",
    "        id_lot = df['id_lot'][i]\n",
    "        for j in range(start_search_index, len(df.index)):\n",
    "            e1_2 = df['e1'][j]\n",
    "            e2_2 = df['e2'][j]\n",
    "\n",
    "            if e1 != e2_2 and e2 == e1_2:\n",
    "                neighbors.append(e2_2)\n",
    "\n",
    "        if len(neighbors) != 0:\n",
    "            for n in neighbors:\n",
    "                if e1 != n:\n",
    "                    df_2.loc[len(df_2)] = [e1, n, id_lot]\n",
    "                    df_2.loc[len(df_2)] = [n, e1, id_lot]\n",
    "\n",
    "    df_2 = df_2.drop_duplicates(keep='first', ignore_index=True)\n",
    "    new_nodes = df_2.shape[0] - df.shape[0]\n",
    "    print(f'New nodes : {new_nodes}')\n",
    "    if new_nodes > 0:\n",
    "        return expand(df_2, len(df.index))\n",
    "    else:\n",
    "        return df_2\n",
    "\n",
    "def complete_batch_v2(df):\n",
    "    df = undirect_links(df)\n",
    "    print(f'Dataframe new shape : {df.shape}')\n",
    "    df = expand(df, 0)\n",
    "    df = undirect_links(df)\n",
    "    print(f'Dataframe new shape : {df.shape}')\n",
    "    return df\n",
    "\n",
    "df = complete_batch_v2(df)\n",
    "#print(df)"
   ]
  },
  {
   "cell_type": "code",
   "execution_count": null,
   "id": "9f772663-ded1-4cd7-9f1c-4e08d7d8104b",
   "metadata": {},
   "outputs": [],
   "source": [
    "i = 0\n",
    "\n",
    "for ind in tqdm(df.index):\n",
    "    e1 = df['e1'][ind]\n",
    "    e2 = df['e2'][ind]\n",
    "    id_lot = min(i, df['id_lot'][ind])\n",
    "    \n",
    "    if id_lot == i:\n",
    "        i += 1\n",
    "        df['id_lot'][ind] = id_lot\n",
    "        \n",
    "    for ind2 in df.index:\n",
    "        e1_2 = df['e1'][ind2]\n",
    "        e2_2 = df['e2'][ind2]\n",
    "        id_lot_2 = df['id_lot'][ind2]\n",
    "\n",
    "        if e1_2 == e1 or e1_2 == e2 or e2_2 == e1 or e2_2 == e2:\n",
    "            df['id_lot'].at[ind2] = id_lot"
   ]
  },
  {
   "cell_type": "code",
   "execution_count": null,
   "id": "f5d885cd-878e-40c1-b4ae-c71cc41ba15d",
   "metadata": {},
   "outputs": [],
   "source": [
    "display(df)"
   ]
  },
  {
   "cell_type": "code",
   "execution_count": null,
   "id": "ccc9bbe6-22ff-4819-92ff-afed4d750cbe",
   "metadata": {},
   "outputs": [],
   "source": [
    "conn = psycopg2.connect(database=\"full_STUPS\",\n",
    "                        user=\"postgres\",\n",
    "                        host='localhost',\n",
    "                        password=\"postgres\",\n",
    "                        port=5432)\n",
    "\n",
    "for ind in tqdm(df.index):\n",
    "    cur = conn.cursor()\n",
    "    if not math.isnan(df[\"e1\"][ind]) and not math.isnan(df[\"e2\"][ind]):\n",
    "        cur.execute(f'INSERT INTO lot_complet VALUES ({df[\"e1\"][ind]}, {df[\"e2\"][ind]}, {df[\"id_lot\"][ind]})')\n",
    "\n",
    "conn.commit()\n",
    "conn.close()"
   ]
  }
 ],
 "metadata": {
  "kernelspec": {
   "display_name": "Python 3 (ipykernel)",
   "language": "python",
   "name": "python3"
  },
  "language_info": {
   "codemirror_mode": {
    "name": "ipython",
    "version": 3
   },
   "file_extension": ".py",
   "mimetype": "text/x-python",
   "name": "python",
   "nbconvert_exporter": "python",
   "pygments_lexer": "ipython3",
   "version": "3.9.5"
  }
 },
 "nbformat": 4,
 "nbformat_minor": 5
}
