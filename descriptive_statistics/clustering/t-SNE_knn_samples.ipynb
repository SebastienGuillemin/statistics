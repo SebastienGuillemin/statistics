{
 "cells": [
  {
   "cell_type": "code",
   "execution_count": null,
   "id": "a54da50a-e68a-45cd-9d12-73e0b8424302",
   "metadata": {},
   "outputs": [],
   "source": [
    "%matplotlib widget\n",
    "import psycopg2\n",
    "import numpy as np\n",
    "import gower\n",
    "import pandas as pd\n",
    "\n",
    "import matplotlib.pyplot as plt\n",
    "from matplotlib.colors import ListedColormap\n",
    "from mpl_toolkits.mplot3d import Axes3D\n",
    "import seaborn as sns\n",
    "import colorcet as cc\n",
    "from tqdm.notebook import tqdm\n",
    "\n",
    "from sklearn.manifold import TSNE\n",
    "from sklearn_extra.cluster import KMedoids\n",
    "from sklearn.metrics import silhouette_score\n",
    "from sklearn.neighbors import KNeighborsClassifier\n",
    "from sklearn.model_selection import cross_val_score"
   ]
  },
  {
   "cell_type": "markdown",
   "id": "13996aa4-1d51-46c6-bb00-5b618f2ab67f",
   "metadata": {},
   "source": [
    "# Loading data"
   ]
  },
  {
   "cell_type": "markdown",
   "id": "d0409ea8-d50d-4f90-b599-67d47e16f727",
   "metadata": {},
   "source": [
    "## Querying database"
   ]
  },
  {
   "cell_type": "code",
   "execution_count": null,
   "id": "d2fe7889-2a29-4b8e-b438-85f0b7d609b8",
   "metadata": {},
   "outputs": [],
   "source": [
    "# Loading data\n",
    "conn = psycopg2.connect(database=\"full_STUPS\",\n",
    "                        user=\"postgres\",\n",
    "                        host='localhost',\n",
    "                        password=\"postgres\",\n",
    "                        port=5432)\n",
    "cur = conn.cursor()\n",
    "cur.execute( '''select distinct ep.*, id_lot\n",
    "                from echantillon_propriete ep \n",
    "                inner join echantillon e on e.id = ep.id \n",
    "                inner join composition c on c.id = e.id_composition \n",
    "                inner join lot_complet lc on (lc.e1 = c.id or lc.e2 = c.id)\n",
    "                order by id_lot''')\n",
    "samples = cur.fetchall()\n",
    "conn.commit()\n",
    "conn.close()\n",
    "colnames = [desc[0] for desc in cur.description]"
   ]
  },
  {
   "cell_type": "markdown",
   "id": "8e19e630-cd91-441a-bd71-d35d27cb9caa",
   "metadata": {},
   "source": [
    "## Preparing dataset"
   ]
  },
  {
   "cell_type": "code",
   "execution_count": null,
   "id": "fbd8a29b-3159-46c4-8045-19739b1e3d79",
   "metadata": {},
   "outputs": [],
   "source": [
    "quanti_cols = ['epaisseur', 'epaisseur', 'hauteur', 'diametre', 'largeur', 'longueur', 'masse', '_3_4_methylene_dioxy_methylamphetamine', '_3_4_methylenedioxyethylamphetamine', '_3_4_methylenedioxyphenylacetone', '_4f_mdmb_butinaca', '_5f_adb', '_5f_mdmb_pica', 'acetylcodeine', 'acetylthebaol', 'acide_4_hydroxybutanoique', 'acide_benzoique', 'acide_borique', 'adb_butinaca', 'amidon', 'aminopyrine', 'amoxycilline', 'amphetamine', 'benzocaine', 'benzoylecgonine', 'bicarbonate_de_sodium', 'bicarbonates', 'buprenorphine', 'cafeine', 'cannabidiol', 'cannabigerol', 'cannabinol', 'cis_cinnamoylcocaine', 'clonazepam', 'clotrimazole', 'cocaine', 'codeine', 'creatine', 'delta8_tetrahydrocannabinol', 'delta9_tetrahydrocannabinol', 'dextromethorphane', 'diltiazem', 'dimethylterephtalate', 'diphenydramine', 'ecgonidine', 'ecgoninemethylester', 'fub_amb', 'gammabutyrolactone', 'glucose', 'griseofulvine', 'guaifenesine', 'heroine', 'hydroxyzine', 'ibuprofene', 'inositol', 'isoleucine', 'ketamine', 'lactitol', 'lactose', 'leucine', 'levamisole', 'lidocaine', 'maltose', 'mannitol', 'mdmb_4en_pinaca', 'meconine', 'methamphetamine', 'methylecgonidine', 'monoacetylmorphine', 'morphine', 'n_methyl_tryptamine', 'nicotine', 'norcocaine', 'noscapine', 'o3_monoacetylmorphine', 'o6_monoacetylmorphine', 'oxycodone', 'papaverine', 'paracetamol', 'phenacetine', 'piracetam', 'procaine', 'pv8', 'saccharose', 'sorbitol', 'talc', 'taux_cbd', 'taux_cbn', 'terephtalates', 'tetracaine', 'tramadol', 'trans_cinnamoylcocaine', 'tropacocaine', 'uree', 'valine', 'vanilline']\n",
    "quali_cols = ['abime','cbd','cbn','couleur','couleur_exterieur','couleur_exterieur_1','couleur_exterieur_2','couleur_interieur','etiquette','forme','logo','ovule','secabilite_recto','secabilite_verso','type_drogue','visqueux','presentation']\n",
    "\n",
    "X = pd.DataFrame(list(samples), columns=colnames) \n",
    "y = X['id_lot']\n",
    "X = X.drop(columns=['id', 'id_lot', 'description_de_l_objet', 'numero_echantillon'])\n",
    "\n",
    "quanti_X = X[quanti_cols].fillna(0).astype(float)\n",
    "quali_X = X[quali_cols]\n",
    "X = pd.concat([quanti_X, quali_X], axis=1)\n",
    "\n",
    "print(f'Samples shape : {X.shape}')"
   ]
  },
  {
   "cell_type": "markdown",
   "id": "bced6728-0dca-45ff-aa7a-cd06211a8a33",
   "metadata": {},
   "source": [
    "# Computing Gower distance"
   ]
  },
  {
   "cell_type": "code",
   "execution_count": null,
   "id": "e78be0ba-4122-4a85-976a-688760f5dd77",
   "metadata": {},
   "outputs": [],
   "source": [
    "# Computing distance matrix between all samples\n",
    "dist_matrix = gower.gower_matrix(X)\n",
    "print(f'Distance matrix shape : {dist_matrix.shape}')\n",
    "print(f'Distance matrix size : {dist_matrix.size}')"
   ]
  },
  {
   "cell_type": "code",
   "execution_count": null,
   "id": "5ac99255",
   "metadata": {},
   "outputs": [],
   "source": [
    "print(f'10 fist samples distances : {dist_matrix[:10, :10]}')"
   ]
  },
  {
   "cell_type": "markdown",
   "id": "69411b6f-427e-4796-bc18-993f76488888",
   "metadata": {},
   "source": [
    "# Computing t-SNE"
   ]
  },
  {
   "cell_type": "code",
   "execution_count": null,
   "id": "724b5603-e3af-4c25-b9ca-3d3015b611e3",
   "metadata": {},
   "outputs": [],
   "source": [
    "# Computing t-SNE\n",
    "tsne = TSNE(n_components=3,\n",
    "            init='random',\n",
    "            metric='precomputed',\n",
    "            random_state=100)\n",
    "embedding = tsne.fit_transform(dist_matrix)"
   ]
  },
  {
   "cell_type": "code",
   "execution_count": null,
   "id": "2534368a-fdd0-4373-a324-73391ddabfa6",
   "metadata": {},
   "outputs": [],
   "source": [
    "# Printing t-SNE results\n",
    "fig = plt.figure(figsize=(7, 7))\n",
    "ax = Axes3D(fig, auto_add_to_figure=False)\n",
    "ax.set_xlabel('Dimension 1')\n",
    "ax.set_ylabel('Dimension 2')\n",
    "ax.set_zlabel('Dimension 3')\n",
    "fig.add_axes(ax)\n",
    "\n",
    "# plot\n",
    "sc = ax.scatter(embedding[:, 0], embedding[:, 1], embedding[:, 2], s=10, marker='o',  alpha=0.5)"
   ]
  },
  {
   "cell_type": "markdown",
   "id": "49f142dc-de3a-4344-876b-7439cfa32e2c",
   "metadata": {},
   "source": [
    "# Looking for the optimal number of clusters"
   ]
  },
  {
   "cell_type": "markdown",
   "id": "97dd48a9-369c-40d3-9e0c-09d82f7f202e",
   "metadata": {},
   "source": [
    "## Computing score *k* different number of neighbors"
   ]
  },
  {
   "cell_type": "code",
   "execution_count": null,
   "id": "71aa93ac-3d0e-4012-8872-7832ad6699b7",
   "metadata": {},
   "outputs": [],
   "source": [
    "# Computing different clustering using K-NN\n",
    "# with different number of clusters\n",
    "\n",
    "# TODO : séparer le jeu de données en jeu d'entraînement et de test\n",
    "\n",
    "labels_results = []\n",
    "scores = []\n",
    "min_clusters = 1\n",
    "nb_clusters = 200\n",
    "nb_clusters_range = range(min_clusters, nb_clusters + min_clusters)\n",
    "\n",
    "for i in tqdm(nb_clusters_range):\n",
    "    knn = KNeighborsClassifier(n_neighbors=i).fit(embedding, y)\n",
    "    labels = knn.predict(embedding)\n",
    "    labels_results.append(labels)\n",
    "    scores.append(knn.score(embedding, y))"
   ]
  },
  {
   "cell_type": "markdown",
   "id": "0447bb39-2268-4dff-80f5-fe7ed31e7530",
   "metadata": {},
   "source": [
    "## Score curves"
   ]
  },
  {
   "cell_type": "code",
   "execution_count": null,
   "id": "914e6cdc-fcd1-4e2f-8ced-c36c16a65edd",
   "metadata": {},
   "outputs": [],
   "source": [
    "# Printing curve(s)\n",
    "x = nb_clusters_range\n",
    "\n",
    "fig = plt.figure(figsize=(8, 8))\n",
    "plt.plot(x, scores)\n",
    "#plt.plot(x, d_wcss)\n",
    "#plt.plot(x, d2_wcss)\n",
    "plt.xlabel('k')\n",
    "plt.ylabel('Scores')\n",
    "\n",
    "plt.grid(visible=True, alpha=0.6)\n",
    "plt.show()"
   ]
  },
  {
   "cell_type": "markdown",
   "id": "713cdbe7-dcb7-4bed-a89c-8733e188682e",
   "metadata": {},
   "source": [
    "# Selecting optimal number of clusters"
   ]
  },
  {
   "cell_type": "code",
   "execution_count": null,
   "id": "e77b5890-4df9-446f-be12-df701fdf9c75",
   "metadata": {},
   "outputs": [],
   "source": [
    "# Finding the optimal cluster number\n",
    "index_cluster = np.argmax(scores)\n",
    "optimal_hyperparameter_number = index_cluster + 1 # Indexes start at 0.\n",
    "print(f'Optimal number of neighbors : {optimal_hyperparameter_number}. Score value : {np.max(scores)}')"
   ]
  },
  {
   "cell_type": "markdown",
   "id": "c0444d96-bd9a-4d8d-a6c8-889a8e0449cc",
   "metadata": {},
   "source": [
    "# Printing cluster"
   ]
  },
  {
   "cell_type": "code",
   "execution_count": null,
   "id": "f37a1e54-199d-4b10-a874-0b095d6618cb",
   "metadata": {},
   "outputs": [],
   "source": [
    "# Printing the cluster according to the optimal cluster number\n",
    "cluster_labels = labels_results[optimal_hyperparameter_number]\n",
    "embedding_df = pd.DataFrame({'x': embedding[:, 0],\n",
    "                             'y': embedding[:, 1],\n",
    "                             'z': embedding[:, 2],\n",
    "                             'label': cluster_labels})\n",
    "\n",
    "# axes instance\n",
    "fig = plt.figure(figsize=(8, 8))\n",
    "ax = Axes3D(fig, auto_add_to_figure=False)\n",
    "\n",
    "ax.set_xlabel('Dimension 1')\n",
    "ax.set_ylabel('Dimension 2')\n",
    "ax.set_zlabel('Dimension 3')\n",
    "fig.add_axes(ax)\n",
    "\n",
    "# get colormap from seaborn\n",
    "cmap = ListedColormap(sns.color_palette(cc.glasbey, n_colors=1000).as_hex())\n",
    "\n",
    "# plot\n",
    "sc = ax.scatter(embedding_df.loc[:, 'x'], embedding_df.loc[:, 'y'], embedding_df.loc[:, 'z'], s=20, c=embedding_df.loc[:, 'label'], marker='o', cmap=cmap, alpha=1)"
   ]
  },
  {
   "cell_type": "markdown",
   "id": "39d4ed3a-4033-4969-ad7b-7b15dbd77fde",
   "metadata": {},
   "source": [
    "# Evaluating results"
   ]
  },
  {
   "cell_type": "markdown",
   "id": "dc1beb18-957f-4ac0-acdb-24b753e3bcc8",
   "metadata": {},
   "source": [
    "## Querying batches from database"
   ]
  },
  {
   "cell_type": "code",
   "execution_count": null,
   "id": "bf069a63-b055-46c6-ba8d-73b43c42fffa",
   "metadata": {},
   "outputs": [],
   "source": [
    "conn = psycopg2.connect(database=\"full_STUPS\",\n",
    "                        user=\"postgres\",\n",
    "                        host='localhost',\n",
    "                        password=\"postgres\",\n",
    "                        port=5432)\n",
    "cur = conn.cursor()\n",
    "cur.execute( '''with temp_e as (\n",
    "            \tselect distinct lc.e1, lc.e2, lc.id_lot\n",
    "            \tfrom echantillon_propriete ep \n",
    "            \tinner join echantillon e on e.id = ep.id \n",
    "            \tinner join composition c on c.id = e.id_composition \n",
    "            \tinner join lot_complet lc on (lc.e1 = c.id or lc.e2 = c.id)\n",
    "            )\n",
    "            select count(distinct e1) as cpt\n",
    "            from temp_e\n",
    "            group by id_lot\n",
    "            ''')\n",
    "distribution = cur.fetchall()\n",
    "distribution = pd.DataFrame(list(distribution))\n",
    "conn.commit()\n",
    "conn.close()"
   ]
  },
  {
   "cell_type": "markdown",
   "id": "a8e95733-3f63-468e-b66e-68fc510aa84d",
   "metadata": {},
   "source": [
    "## Printing histogram"
   ]
  },
  {
   "cell_type": "code",
   "execution_count": null,
   "id": "cebcdef4-5332-4115-bbb0-b9dc2bcbaa18",
   "metadata": {},
   "outputs": [],
   "source": [
    "labels, counts = np.unique(distribution, return_counts=True)\n",
    "total = np.sum(counts)\n",
    "\n",
    "fig = plt.figure(figsize=(14,5))\n",
    "\n",
    "colors = ListedColormap(sns.color_palette(\"deep\", len(labels))).colors\n",
    "\n",
    "for i in range(len(labels)):\n",
    "    color=np.random.rand(4,4)\n",
    "    plt.bar(labels[i], counts[i], align='center', color=colors[i])\n",
    "    plt.annotate(f'{counts[i]} / {total} ({round(100.0 * counts[i] / total, 2)}%)', xy=(labels[i], counts[i]), color=colors[i],  fontsize=10, ha='center', xytext=(0, 6), textcoords='offset pixels')\n",
    "\n",
    "plt.title('Batch size distribution', fontsize=12)\n",
    "plt.xlabel('Batch size', fontsize=10)\n",
    "plt.ylabel('Number of batches', fontsize=10)\n",
    "plt.show()"
   ]
  }
 ],
 "metadata": {
  "kernelspec": {
   "display_name": "Python 3 (ipykernel)",
   "language": "python",
   "name": "python3"
  },
  "language_info": {
   "codemirror_mode": {
    "name": "ipython",
    "version": 3
   },
   "file_extension": ".py",
   "mimetype": "text/x-python",
   "name": "python",
   "nbconvert_exporter": "python",
   "pygments_lexer": "ipython3",
   "version": "3.11.2"
  }
 },
 "nbformat": 4,
 "nbformat_minor": 5
}
