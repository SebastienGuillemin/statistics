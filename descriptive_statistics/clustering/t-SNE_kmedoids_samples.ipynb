{
 "cells": [
  {
   "cell_type": "code",
   "execution_count": null,
   "id": "a54da50a-e68a-45cd-9d12-73e0b8424302",
   "metadata": {},
   "outputs": [],
   "source": [
    "%matplotlib widget\n",
    "import psycopg2\n",
    "import numpy as np\n",
    "import gower\n",
    "import pandas as pd\n",
    "\n",
    "import matplotlib.pyplot as plt\n",
    "from matplotlib.colors import ListedColormap\n",
    "from mpl_toolkits.mplot3d import Axes3D\n",
    "import seaborn as sns\n",
    "from yellowbrick.cluster import SilhouetteVisualizer\n",
    "from tqdm.notebook import tqdm\n",
    "\n",
    "from sklearn.manifold import TSNE\n",
    "from sklearn_extra.cluster import KMedoids\n",
    "from sklearn.metrics import silhouette_score"
   ]
  },
  {
   "cell_type": "markdown",
   "id": "f2a9f791-6b1a-4f6d-bfcf-b2f4fd82aa1c",
   "metadata": {},
   "source": [
    "# Loading data"
   ]
  },
  {
   "cell_type": "markdown",
   "id": "484d850b-e382-429b-9aaf-ffc9960df6c9",
   "metadata": {},
   "source": [
    "## Querying database"
   ]
  },
  {
   "cell_type": "code",
   "execution_count": null,
   "id": "d2fe7889-2a29-4b8e-b438-85f0b7d609b8",
   "metadata": {},
   "outputs": [],
   "source": [
    "# Loading data\n",
    "conn = psycopg2.connect(database=\"full_STUPS\",\n",
    "                        user=\"postgres\",\n",
    "                        host='localhost',\n",
    "                        password=\"postgres\",\n",
    "                        port=5432)\n",
    "cur = conn.cursor()\n",
    "cur.execute( '''select distinct ep.*, id_lot\n",
    "                from echantillon_propriete ep \n",
    "                inner join echantillon e on e.id = ep.id \n",
    "                inner join composition c on c.id = e.id_composition \n",
    "                inner join lot_complet lc on (lc.e1 = c.id or lc.e2 = c.id)\n",
    "                order by id_lot''')\n",
    "samples = cur.fetchall()\n",
    "conn.commit()\n",
    "conn.close()\n",
    "colnames = [desc[0] for desc in cur.description]"
   ]
  },
  {
   "cell_type": "markdown",
   "id": "d9c88c52-a196-445b-a82c-dd3d48901073",
   "metadata": {},
   "source": [
    "## Preparing dataset"
   ]
  },
  {
   "cell_type": "code",
   "execution_count": null,
   "id": "fbd8a29b-3159-46c4-8045-19739b1e3d79",
   "metadata": {},
   "outputs": [],
   "source": [
    "quanti_cols = ['epaisseur', 'epaisseur', 'hauteur', 'diametre', 'largeur', 'longueur', 'masse', '_3_4_methylene_dioxy_methylamphetamine', '_3_4_methylenedioxyethylamphetamine', '_3_4_methylenedioxyphenylacetone', '_4f_mdmb_butinaca', '_5f_adb', '_5f_mdmb_pica', 'acetylcodeine', 'acetylthebaol', 'acide_4_hydroxybutanoique', 'acide_benzoique', 'acide_borique', 'adb_butinaca', 'amidon', 'aminopyrine', 'amoxycilline', 'amphetamine', 'benzocaine', 'benzoylecgonine', 'bicarbonate_de_sodium', 'bicarbonates', 'buprenorphine', 'cafeine', 'cannabidiol', 'cannabigerol', 'cannabinol', 'cis_cinnamoylcocaine', 'clonazepam', 'clotrimazole', 'cocaine', 'codeine', 'creatine', 'delta8_tetrahydrocannabinol', 'delta9_tetrahydrocannabinol', 'dextromethorphane', 'diltiazem', 'dimethylterephtalate', 'diphenydramine', 'ecgonidine', 'ecgoninemethylester', 'fub_amb', 'gammabutyrolactone', 'glucose', 'griseofulvine', 'guaifenesine', 'heroine', 'hydroxyzine', 'ibuprofene', 'inositol', 'isoleucine', 'ketamine', 'lactitol', 'lactose', 'leucine', 'levamisole', 'lidocaine', 'maltose', 'mannitol', 'mdmb_4en_pinaca', 'meconine', 'methamphetamine', 'methylecgonidine', 'monoacetylmorphine', 'morphine', 'n_methyl_tryptamine', 'nicotine', 'norcocaine', 'noscapine', 'o3_monoacetylmorphine', 'o6_monoacetylmorphine', 'oxycodone', 'papaverine', 'paracetamol', 'phenacetine', 'piracetam', 'procaine', 'pv8', 'saccharose', 'sorbitol', 'talc', 'taux_cbd', 'taux_cbn', 'terephtalates', 'tetracaine', 'tramadol', 'trans_cinnamoylcocaine', 'tropacocaine', 'uree', 'valine', 'vanilline']\n",
    "quali_cols = ['abime','cbd','cbn','couleur','couleur_exterieur','couleur_exterieur_1','couleur_exterieur_2','couleur_interieur','etiquette','forme','logo','ovule','secabilite_recto','secabilite_verso','type_drogue','visqueux','presentation']\n",
    "\n",
    "X = pd.DataFrame(list(samples), columns=colnames) \n",
    "X = X.drop(columns=['id', 'id_lot', 'description_de_l_objet', 'numero_echantillon'])\n",
    "\n",
    "quanti_X = X[quanti_cols].fillna(0).astype(float)\n",
    "quali_X = X[quali_cols]\n",
    "X = pd.concat([quanti_X, quali_X], axis=1)\n",
    "\n",
    "print(f'Samples shape : {X.shape}')"
   ]
  },
  {
   "cell_type": "markdown",
   "id": "b55a196f-0c81-4476-8221-893ed16bbb9e",
   "metadata": {},
   "source": [
    "# Computing Gower distance"
   ]
  },
  {
   "cell_type": "code",
   "execution_count": null,
   "id": "e78be0ba-4122-4a85-976a-688760f5dd77",
   "metadata": {},
   "outputs": [],
   "source": [
    "# Computing distance matrix between all samples\n",
    "dist_matrix = gower.gower_matrix(X)\n",
    "print(f'Distance matrix size : {dist_matrix.size}')"
   ]
  },
  {
   "cell_type": "markdown",
   "id": "ebdc357f-3464-4d9b-a102-dcdfbf37d989",
   "metadata": {},
   "source": [
    "# Computing t-SNE"
   ]
  },
  {
   "cell_type": "code",
   "execution_count": null,
   "id": "724b5603-e3af-4c25-b9ca-3d3015b611e3",
   "metadata": {},
   "outputs": [],
   "source": [
    "# Computing t-SNE\n",
    "tsne = TSNE(n_components=3,\n",
    "            init='random',\n",
    "            metric='precomputed',\n",
    "            random_state=100)\n",
    "embedding = tsne.fit_transform(dist_matrix)"
   ]
  },
  {
   "cell_type": "code",
   "execution_count": null,
   "id": "2534368a-fdd0-4373-a324-73391ddabfa6",
   "metadata": {},
   "outputs": [],
   "source": [
    "# Printing t-SNE results\n",
    "fig = plt.figure(figsize=(5, 5))\n",
    "ax = Axes3D(fig, auto_add_to_figure=False)\n",
    "ax.set_xlabel('Dimension 1')\n",
    "ax.set_ylabel('Dimension 2')\n",
    "ax.set_zlabel('Dimension 3')\n",
    "fig.add_axes(ax)\n",
    "\n",
    "# plot\n",
    "sc = ax.scatter(embedding[:, 0], embedding[:, 1], embedding[:, 2], s=10, marker='o',  alpha=0.5)"
   ]
  },
  {
   "cell_type": "markdown",
   "id": "0851593f-d7f3-4795-b6f7-f721864b0baa",
   "metadata": {},
   "source": [
    "# Looking for the optimal number of clusters"
   ]
  },
  {
   "cell_type": "code",
   "execution_count": null,
   "id": "99d813bb",
   "metadata": {},
   "outputs": [],
   "source": [
    "min_clusters = 2\n",
    "nb_clusters = 200\n",
    "nb_clusters_range = range(min_clusters, nb_clusters + min_clusters)"
   ]
  },
  {
   "cell_type": "markdown",
   "id": "a45c2ab6",
   "metadata": {},
   "source": [
    "## Computing elbow score for *k* different number of clusters"
   ]
  },
  {
   "cell_type": "code",
   "execution_count": null,
   "id": "599cd4a0",
   "metadata": {},
   "outputs": [],
   "source": [
    "# Computing different clustering silhouette score\n",
    "# using kmenoids with different number of clusters\n",
    "inertia = []\n",
    "\n",
    "for i in tqdm(nb_clusters_range):\n",
    "    model = KMedoids(n_clusters=i, init='k-medoids++').fit(embedding)\n",
    "    inertia.append(model.inertia_)\n",
    "\n",
    "inertia_derivative = np.gradient(inertia)\n",
    "curvature = np.gradient(inertia_derivative)"
   ]
  },
  {
   "cell_type": "code",
   "execution_count": null,
   "id": "7c48604f",
   "metadata": {},
   "outputs": [],
   "source": [
    "# Printing elbow curve(s)\n",
    "fig = plt.figure(figsize=(8, 8))\n",
    "plt.plot(nb_clusters_range, inertia)\n",
    "plt.plot(nb_clusters_range, curvature)\n",
    "plt.xlabel('Number of clusters')\n",
    "plt.ylabel('Inertia')\n",
    "\n",
    "plt.grid(visible=True, alpha=0.6)\n",
    "plt.show()"
   ]
  },
  {
   "cell_type": "markdown",
   "id": "5ac2a300-72dc-4eef-a379-e914aee96761",
   "metadata": {},
   "source": [
    "## Computing silhouette score *k* different number of clusters"
   ]
  },
  {
   "cell_type": "code",
   "execution_count": null,
   "id": "618bba48-5cdd-4eea-932d-4742512e5623",
   "metadata": {},
   "outputs": [],
   "source": [
    "# Computing different clustering silhouette score\n",
    "# using kmenoids with different number of clusters \n",
    "labels_results = []\n",
    "silhouette_scores = []\n",
    "\n",
    "for i in tqdm(nb_clusters_range):\n",
    "    model = KMedoids(n_clusters=i, init='k-medoids++').fit(embedding)\n",
    "    cluster_labels = model.labels_\n",
    "    silhouette_avg = silhouette_score(embedding, cluster_labels)\n",
    "    labels_results.append(cluster_labels)\n",
    "    silhouette_scores.append(silhouette_avg)"
   ]
  },
  {
   "cell_type": "markdown",
   "id": "a8a2265a-6a27-41d2-b392-d840a03a70de",
   "metadata": {},
   "source": [
    "## Silhouette score curve"
   ]
  },
  {
   "cell_type": "code",
   "execution_count": null,
   "id": "914e6cdc-fcd1-4e2f-8ced-c36c16a65edd",
   "metadata": {},
   "outputs": [],
   "source": [
    "# Printing silhouette curve(s)\n",
    "fig = plt.figure(figsize=(8, 8))\n",
    "plt.plot(nb_clusters_range, silhouette_scores)\n",
    "plt.xlabel('Number of clusters')\n",
    "plt.ylabel('Silhouette score')\n",
    "\n",
    "plt.grid(visible=True, alpha=0.6)\n",
    "plt.show()"
   ]
  },
  {
   "cell_type": "markdown",
   "id": "7f7a8f18-47dd-473f-babd-776fb13a0459",
   "metadata": {},
   "source": [
    "# Selecting optimal number of clusters"
   ]
  },
  {
   "cell_type": "code",
   "execution_count": null,
   "id": "e77b5890-4df9-446f-be12-df701fdf9c75",
   "metadata": {},
   "outputs": [],
   "source": [
    "# Finding the optimal cluster number\n",
    "index_cluster = np.argmax(silhouette_scores)\n",
    "optimal_hyperparameter_number = index_cluster + 1 # Indexes start at 0.\n",
    "print(f'Optimal number of clusters : {optimal_hyperparameter_number}.')"
   ]
  },
  {
   "cell_type": "markdown",
   "id": "e6f3f69f-7910-4c75-803b-e08c6878a2c1",
   "metadata": {},
   "source": [
    "# Printing cluster"
   ]
  },
  {
   "cell_type": "code",
   "execution_count": null,
   "id": "f37a1e54-199d-4b10-a874-0b095d6618cb",
   "metadata": {},
   "outputs": [],
   "source": [
    "# Printing the cluster according to the optimal cluster number\n",
    "cluster_labels = labels_results[optimal_hyperparameter_number]\n",
    "embedding_df = pd.DataFrame({'x': embedding[:, 0],\n",
    "                             'y': embedding[:, 1],\n",
    "                             'z': embedding[:, 2],\n",
    "                             'label': cluster_labels})\n",
    "\n",
    "# axes instance\n",
    "fig = plt.figure(figsize=(7, 7))\n",
    "ax = Axes3D(fig, auto_add_to_figure=False)\n",
    "\n",
    "ax.set_xlabel('Dimension 1')\n",
    "ax.set_ylabel('Dimension 2')\n",
    "ax.set_zlabel('Dimension 3')\n",
    "fig.add_axes(ax)\n",
    "\n",
    "# get colormap from seaborn\n",
    "cmap = ListedColormap(sns.color_palette(\"husl\", len(np.unique(cluster_labels))).as_hex())\n",
    "\n",
    "# plot\n",
    "sc = ax.scatter(embedding_df.loc[:, 'x'], embedding_df.loc[:, 'y'], embedding_df.loc[:, 'z'], s=20, c=embedding_df.loc[:, 'label'], marker='o', cmap=cmap, alpha=1)"
   ]
  },
  {
   "cell_type": "markdown",
   "id": "44c66713-7969-4f65-9db4-966d9ea302a4",
   "metadata": {},
   "source": [
    "# Evaluating results"
   ]
  },
  {
   "cell_type": "markdown",
   "id": "7a80e93f-0b09-4190-a172-a496bebaa853",
   "metadata": {},
   "source": [
    "TODO (?)"
   ]
  }
 ],
 "metadata": {
  "kernelspec": {
   "display_name": "Python 3 (ipykernel)",
   "language": "python",
   "name": "python3"
  },
  "language_info": {
   "codemirror_mode": {
    "name": "ipython",
    "version": 3
   },
   "file_extension": ".py",
   "mimetype": "text/x-python",
   "name": "python",
   "nbconvert_exporter": "python",
   "pygments_lexer": "ipython3",
   "version": "3.11.2"
  }
 },
 "nbformat": 4,
 "nbformat_minor": 5
}
