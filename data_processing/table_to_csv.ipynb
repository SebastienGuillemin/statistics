{
 "cells": [
  {
   "cell_type": "code",
   "execution_count": null,
   "metadata": {},
   "outputs": [],
   "source": [
    "import psycopg2\n",
    "import pandas as pd"
   ]
  },
  {
   "cell_type": "markdown",
   "metadata": {},
   "source": [
    "# Retrieve data from database"
   ]
  },
  {
   "cell_type": "code",
   "execution_count": null,
   "metadata": {},
   "outputs": [],
   "source": [
    "conn = psycopg2.connect(database='full_STUPS',\n",
    "                        user='postgres',\n",
    "                        host='localhost',\n",
    "                        password='postgres',\n",
    "                        port=5432)\n",
    "cur = conn.cursor()\n",
    "cur.execute('SELECT * from echantillon_propriete')\n",
    "samples = cur.fetchall()\n",
    "conn.close()\n",
    "colnames = [desc[0] for desc in cur.description]\n",
    "\n",
    "df = pd.DataFrame(list(samples), columns=colnames)\n",
    "display(df)"
   ]
  },
  {
   "cell_type": "markdown",
   "metadata": {},
   "source": [
    "# Export to csv"
   ]
  },
  {
   "cell_type": "markdown",
   "metadata": {},
   "source": [
    "## Export full csv"
   ]
  },
  {
   "cell_type": "code",
   "execution_count": null,
   "metadata": {},
   "outputs": [],
   "source": [
    "df.to_csv('../data/full.csv')"
   ]
  },
  {
   "cell_type": "markdown",
   "metadata": {},
   "source": [
    "## Export Cannabis csv"
   ]
  },
  {
   "cell_type": "code",
   "execution_count": null,
   "metadata": {},
   "outputs": [],
   "source": [
    "quanti_cols = ['cannabidiol', 'cannabigerol', 'cannabinol', 'cbd', 'cbn', 'delta9_tetrahydrocannabinol', 'epaisseur', 'hauteur', 'largeur', 'logo', 'longueur', 'masse', 'taux_cbd', 'taux_cbn', 'visqueux']\n",
    "boolean_cols = ['abime', 'visqueux', 'etiquette', 'logo']\n",
    "\n",
    "cannabis_df = df.copy()\n",
    "cannabis_df = cannabis_df.loc[cannabis_df['type_drogue'] == 'Cannabis']\n",
    "\n",
    "cannabis_df.dropna(how='all', axis=1, inplace=True) \n",
    "cannabis_df.reset_index(drop=True, inplace=True)\n",
    "\n",
    "cannabis_df[quanti_cols] = cannabis_df[quanti_cols].fillna(0)\n",
    "cannabis_df[boolean_cols] = cannabis_df[boolean_cols].fillna(False)\n",
    "cannabis_df[boolean_cols] = cannabis_df[boolean_cols].replace('Non', False)\n",
    "cannabis_df[boolean_cols] = cannabis_df[boolean_cols].replace('0', False)\n",
    "cannabis_df[boolean_cols] = cannabis_df[boolean_cols].replace(0, False)\n",
    "cannabis_df[boolean_cols] = cannabis_df[boolean_cols].replace('Oui', True)\n",
    "cannabis_df[boolean_cols] = cannabis_df[boolean_cols].replace('1', True)\n",
    "cannabis_df[boolean_cols] = cannabis_df[boolean_cols].replace(1, True)\n",
    "# cannabis_df['presentation'] = cannabis_df['presentation'].fillna('')\n",
    "\n",
    "# cannabis_df = cannabis_df[(cannabis_df['cbd'] != 0) | (cannabis_df['cbn'] != 0)]\n",
    "# cannabis_df = cannabis_df[(cannabis_df['presentation'] != '')]\n",
    "\n",
    "cannabis_df = cannabis_df.drop(columns=['cannabigerol', 'forme', 'cbd', 'cbn', 'type_drogue', 'logo', 'couleur', 'couleur_exterieur', 'couleur_exterieur_1', 'couleur_interieur',  'description_de_l_objet', 'numero_echantillon', 'ovule', 'nom_de_logo', 'secabilite_recto', 'secabilite_verso'])\n",
    "\n",
    "display(cannabis_df)\n",
    "cannabis_df.to_csv('../data/cannabis.csv', index=False)\n",
    "print(f'Cannabis dataframe shape {cannabis_df.shape}' )"
   ]
  },
  {
   "cell_type": "markdown",
   "metadata": {},
   "source": [
    "## Export Héroïne csv"
   ]
  },
  {
   "cell_type": "code",
   "execution_count": null,
   "metadata": {},
   "outputs": [],
   "source": [
    "heroine_df = df.copy()\n",
    "heroine_df = heroine_df.loc[heroine_df['type_drogue'] == 'Héroïne']\n",
    "heroine_df.dropna(how='all', axis=1, inplace=True) \n",
    "heroine_df.reset_index(drop=True, inplace=True)\n",
    "\n",
    "heroine_df = heroine_df.drop(columns=['acetylcodeine', 'type_drogue', 'logo',  'description_de_l_objet', 'numero_echantillon', 'ovule', 'nom_de_logo', 'presentation', 'saccharose', 'phenacetine', 'papaverine', 'clotrimazole', 'cocaine', 'dextromethorphane', 'acetylthebaol', 'griseofulvine', 'mannitol', 'meconine', 'monoacetylmorphine', 'morphine', 'o3_monoacetylmorphine', 'o6_monoacetylmorphine'])\n",
    "\n",
    "\n",
    "heroine_df.to_csv('../data/heroine.csv', index=False)\n",
    "print(f'Heroine dataframe shape {heroine_df.shape}' )"
   ]
  },
  {
   "cell_type": "markdown",
   "metadata": {},
   "source": [
    "## Export Cocaïne csv"
   ]
  },
  {
   "cell_type": "code",
   "execution_count": null,
   "metadata": {},
   "outputs": [],
   "source": [
    "quanti_cols = ['cafeine', 'cocaine', 'levamisole', 'lidocaine']\n",
    "\n",
    "cocaine_df = df.copy()\n",
    "cocaine_df = cocaine_df.loc[cocaine_df['type_drogue'] == 'Cocaïne']\n",
    "cocaine_df.dropna(how='all', axis=1, inplace=True) \n",
    "cocaine_df.reset_index(drop=True, inplace=True)\n",
    "\n",
    "cocaine_df[quanti_cols] = cocaine_df[quanti_cols].fillna(0)\n",
    "\n",
    "cocaine_df = cocaine_df.drop(columns=['abime', 'acide_benzoique', 'acide_borique', 'amidon','aminopyrine', 'amphetamine', 'benzocaine', 'benzoylecgonine', 'amoxycilline', 'type_drogue', 'logo',  'description_de_l_objet', 'numero_echantillon', 'ovule', 'nom_de_logo', 'presentation', 'saccharose', 'phenacetine', 'mannitol', 'bicarbonate_de_sodium', 'bicarbonates', 'cbn', 'cis_cinnamoylcocaine', 'codeine', 'couleur_exterieur', 'couleur_interieur', 'creatine', 'delta9_tetrahydrocannabinol', 'diltiazem', 'dimethylterephtalate', 'diphenydramine', 'ecgonidine', 'ecgoninemethylester', 'epaisseur', 'forme', 'glucose', 'guaifenesine', 'hauteur', 'heroine', 'hydroxyzine', 'ibuprofene', 'inositol', 'isoleucine', 'lactitol', 'lactose', 'largeur', 'leucine', 'maltose', 'masse', 'methylecgonidine', 'norcocaine', 'oxycodone', 'paracetamol', 'piracetam', 'procaine', 'pv8', 'secabilite_recto', 'secabilite_verso', 'sorbitol', 'talc', 'taux_cbn', 'terephtalates', 'tetracaine', 'tramadol', 'trans_cinnamoylcocaine', 'tropacocaine', 'uree', 'valine', 'visqueux'])\n",
    "\n",
    "\n",
    "cocaine_df.to_csv('../data/cocaine.csv', index=False)\n",
    "print(f'Cocaine dataframe shape {cocaine_df.shape}' )"
   ]
  },
  {
   "cell_type": "markdown",
   "metadata": {},
   "source": [
    "## Export Amphétamine et dérivés csv"
   ]
  },
  {
   "cell_type": "code",
   "execution_count": null,
   "metadata": {},
   "outputs": [],
   "source": [
    "quanti_cols = ['_3_4_methylenedioxyethylamphetamine', '_3_4_methylene_dioxy_methylamphetamine', 'diametre', 'epaisseur', 'hauteur', 'largeur', 'masse']\n",
    "\n",
    "amphet_df = df.copy()\n",
    "amphet_df = amphet_df.loc[amphet_df['type_drogue'] == 'Amphétamine et dérivés']\n",
    "amphet_df.dropna(how='all', axis=1, inplace=True) \n",
    "amphet_df.reset_index(drop=True, inplace=True)\n",
    "\n",
    "amphet_df[quanti_cols] = amphet_df[quanti_cols].fillna(0)\n",
    "\n",
    "amphet_df = amphet_df.drop(columns=['abime','amphetamine','cafeine', 'lidocaine','methamphetamine', 'logo', 'nom_de_logo','numero_echantillon','ovule','phenacetine','secabilite_recto','secabilite_verso','type_drogue','visqueux'])\n",
    "amphet_df['forme'] = amphet_df['forme'].replace(to_replace='Rectangulaire / Carré', value='Rectangulaire_Carré')\n",
    "\n",
    "amphet_df['couleur'] = amphet_df['couleur'].combine_first(amphet_df['couleur_exterieur']).combine_first(amphet_df['couleur_interieur'])\n",
    "amphet_df = amphet_df.drop(columns=['couleur_exterieur', 'couleur_interieur'])\n",
    "\n",
    "amphet_df.to_csv('../data/amphet.csv', index=False)\n",
    "print(f'Amphet dataframe shape {amphet_df.shape}')"
   ]
  },
  {
   "cell_type": "markdown",
   "metadata": {},
   "source": [
    "## Export Divers csv"
   ]
  },
  {
   "cell_type": "code",
   "execution_count": null,
   "metadata": {},
   "outputs": [],
   "source": [
    "divers_df = df.copy()\n",
    "divers_df = divers_df.loc[divers_df['type_drogue'] == 'Divers']\n",
    "divers_df.dropna(how='all', axis=1, inplace=True) \n",
    "divers_df.reset_index(drop=True, inplace=True)\n",
    "divers_df.to_csv('../data/divers.csv', index=False)\n",
    "print(f'Amphet dataframe shape {divers_df.shape}')"
   ]
  }
 ],
 "metadata": {
  "kernelspec": {
   "display_name": "Python 3",
   "language": "python",
   "name": "python3"
  },
  "language_info": {
   "codemirror_mode": {
    "name": "ipython",
    "version": 3
   },
   "file_extension": ".py",
   "mimetype": "text/x-python",
   "name": "python",
   "nbconvert_exporter": "python",
   "pygments_lexer": "ipython3",
   "version": "3.11.2"
  }
 },
 "nbformat": 4,
 "nbformat_minor": 2
}
